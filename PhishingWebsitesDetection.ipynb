{
 "cells": [
  {
   "cell_type": "markdown",
   "id": "8160576f34a42698",
   "metadata": {
    "collapsed": false
   },
   "source": [
    "# Websites Phishing Detection using Logistic Regresión and the KNN algorithm\n",
    "Repositorio de GitHub: [https://github.com/FranzCastillo/IA-Phising-Website-Detection](https://github.com/FranzCastillo/IA-Phising-Website-Detection)"
   ]
  },
  {
   "cell_type": "markdown",
   "id": "94be590350a4efe7",
   "metadata": {
    "collapsed": false
   },
   "source": [
    "## Task 1 | Regresión Lineal\n",
    "\n",
    "##### 1. Considera un modelo de regresión lineal con dos características, X₁ y X₂, y sus pesos correspondientes w₁ y w₂. Si el modelo predice una salida y mediante la ecuación y = 2w₁X₁ + 3w₂X₂ + 1, ¿cuál es la interpretación del coeficiente 3w₂ en el contexto del modelo?\n",
    "El coeficiente 3w₂ representa el efecto que tiene la variable X₂ en la salida y. En caso que w₁ no sea mayor a w₂ luego del entrenamiento, se puede decir que la variable X₂ tiene un mayor efecto en el valor de salida. También puede proporcionar una medida de relación entre dicha variable y la salida. Con esto puede evaluarse la importancia de ambas variables respecto al modelo de regresión lineal.\n",
    "\n",
    "\n",
    "\n",
    "\n",
    "##### 2. Explica el concepto de multicolinealidad en el contexto de la regresión lineal. ¿Cómo afecta la multicolinealidad a la interpretación de los coeficientes de regresión individuales?\n",
    "Un problema de multicolinealidad se da cuando dos o más predictores (variables independientes) de un modelo de regresión tienen una correlación muy alta entre sí.\n",
    "\n",
    "Este problema afecta a la interpretación de coeficientes de las siguientes maneras:\n",
    "   - Aumenta de manera significativa la varianza entre los coeficientes, causando inestabilidad en las mediciones.\n",
    "  - En casos de correlación muy alta (casi alcanzando la perfección) es muy difícil separar el efecto de las variables. Esto se da debido a que sus coeficientes terminan en resultados muy cercanos evitando la diferenciación entre las variables.\n",
    "\n",
    "\n",
    "\n",
    "\n",
    "\n",
    "\n",
    "### Referencias\n",
    "- Pennsylvania State University [PSE]. (S.F.). 10.4 - Multicollinearity. https://online.stat.psu.edu/stat462/node/177/\n",
    "\n"
   ]
  },
  {
   "cell_type": "markdown",
   "id": "88e0777473ed4eb4",
   "metadata": {
    "collapsed": false
   },
   "source": [
    "# Task 2\n",
    "## Análisis Exploratorio"
   ]
  },
  {
   "cell_type": "code",
   "execution_count": 1,
   "id": "688fec731ef9616a",
   "metadata": {
    "collapsed": false,
    "ExecuteTime": {
     "end_time": "2024-01-25T00:52:00.314970500Z",
     "start_time": "2024-01-25T00:51:58.062845Z"
    }
   },
   "outputs": [],
   "source": [
    "import matplotlib\n",
    "import pandas as pd\n",
    "import numpy as np\n",
    "\n",
    "import matplotlib.pyplot as plt\n",
    "\n",
    "plt.style.use('ggplot')\n",
    "\n",
    "import numpy as np\n",
    "import pandas as pd\n",
    "import seaborn as sns\n",
    "from collections import Counter\n",
    "from sklearn.metrics import confusion_matrix\n",
    "from sklearn.neighbors import KNeighborsClassifier\n",
    "from sklearn.metrics import accuracy_score"
   ]
  },
  {
   "cell_type": "code",
   "execution_count": 2,
   "id": "eaa6cd4258b5bf28",
   "metadata": {
    "collapsed": false,
    "ExecuteTime": {
     "end_time": "2024-01-25T00:52:00.534467800Z",
     "start_time": "2024-01-25T00:52:00.313875300Z"
    }
   },
   "outputs": [
    {
     "data": {
      "text/plain": "                                                 url  length_url  \\\n0              http://www.crestonwood.com/router.php          37   \n1  http://shadetreetechnology.com/V4/validation/a...          77   \n2  https://support-appleld.com.secureupdate.duila...         126   \n3                                 http://rgipt.ac.in          18   \n4  http://www.iracing.com/tracks/gateway-motorspo...          55   \n\n   length_hostname  ip  nb_dots  nb_hyphens  nb_at  nb_qm  nb_and  nb_or  ...  \\\n0               19   0        3           0      0      0       0      0  ...   \n1               23   1        1           0      0      0       0      0  ...   \n2               50   1        4           1      0      1       2      0  ...   \n3               11   0        2           0      0      0       0      0  ...   \n4               15   0        2           2      0      0       0      0  ...   \n\n   domain_in_title  domain_with_copyright  whois_registered_domain  \\\n0                0                      1                        0   \n1                1                      0                        0   \n2                1                      0                        0   \n3                1                      0                        0   \n4                0                      1                        0   \n\n   domain_registration_length  domain_age  web_traffic  dns_record  \\\n0                          45          -1            0           1   \n1                          77        5767            0           0   \n2                          14        4004      5828815           0   \n3                          62          -1       107721           0   \n4                         224        8175         8725           0   \n\n   google_index  page_rank      status  \n0             1          4  legitimate  \n1             1          2    phishing  \n2             1          0    phishing  \n3             0          3  legitimate  \n4             0          6  legitimate  \n\n[5 rows x 89 columns]",
      "text/html": "<div>\n<style scoped>\n    .dataframe tbody tr th:only-of-type {\n        vertical-align: middle;\n    }\n\n    .dataframe tbody tr th {\n        vertical-align: top;\n    }\n\n    .dataframe thead th {\n        text-align: right;\n    }\n</style>\n<table border=\"1\" class=\"dataframe\">\n  <thead>\n    <tr style=\"text-align: right;\">\n      <th></th>\n      <th>url</th>\n      <th>length_url</th>\n      <th>length_hostname</th>\n      <th>ip</th>\n      <th>nb_dots</th>\n      <th>nb_hyphens</th>\n      <th>nb_at</th>\n      <th>nb_qm</th>\n      <th>nb_and</th>\n      <th>nb_or</th>\n      <th>...</th>\n      <th>domain_in_title</th>\n      <th>domain_with_copyright</th>\n      <th>whois_registered_domain</th>\n      <th>domain_registration_length</th>\n      <th>domain_age</th>\n      <th>web_traffic</th>\n      <th>dns_record</th>\n      <th>google_index</th>\n      <th>page_rank</th>\n      <th>status</th>\n    </tr>\n  </thead>\n  <tbody>\n    <tr>\n      <th>0</th>\n      <td>http://www.crestonwood.com/router.php</td>\n      <td>37</td>\n      <td>19</td>\n      <td>0</td>\n      <td>3</td>\n      <td>0</td>\n      <td>0</td>\n      <td>0</td>\n      <td>0</td>\n      <td>0</td>\n      <td>...</td>\n      <td>0</td>\n      <td>1</td>\n      <td>0</td>\n      <td>45</td>\n      <td>-1</td>\n      <td>0</td>\n      <td>1</td>\n      <td>1</td>\n      <td>4</td>\n      <td>legitimate</td>\n    </tr>\n    <tr>\n      <th>1</th>\n      <td>http://shadetreetechnology.com/V4/validation/a...</td>\n      <td>77</td>\n      <td>23</td>\n      <td>1</td>\n      <td>1</td>\n      <td>0</td>\n      <td>0</td>\n      <td>0</td>\n      <td>0</td>\n      <td>0</td>\n      <td>...</td>\n      <td>1</td>\n      <td>0</td>\n      <td>0</td>\n      <td>77</td>\n      <td>5767</td>\n      <td>0</td>\n      <td>0</td>\n      <td>1</td>\n      <td>2</td>\n      <td>phishing</td>\n    </tr>\n    <tr>\n      <th>2</th>\n      <td>https://support-appleld.com.secureupdate.duila...</td>\n      <td>126</td>\n      <td>50</td>\n      <td>1</td>\n      <td>4</td>\n      <td>1</td>\n      <td>0</td>\n      <td>1</td>\n      <td>2</td>\n      <td>0</td>\n      <td>...</td>\n      <td>1</td>\n      <td>0</td>\n      <td>0</td>\n      <td>14</td>\n      <td>4004</td>\n      <td>5828815</td>\n      <td>0</td>\n      <td>1</td>\n      <td>0</td>\n      <td>phishing</td>\n    </tr>\n    <tr>\n      <th>3</th>\n      <td>http://rgipt.ac.in</td>\n      <td>18</td>\n      <td>11</td>\n      <td>0</td>\n      <td>2</td>\n      <td>0</td>\n      <td>0</td>\n      <td>0</td>\n      <td>0</td>\n      <td>0</td>\n      <td>...</td>\n      <td>1</td>\n      <td>0</td>\n      <td>0</td>\n      <td>62</td>\n      <td>-1</td>\n      <td>107721</td>\n      <td>0</td>\n      <td>0</td>\n      <td>3</td>\n      <td>legitimate</td>\n    </tr>\n    <tr>\n      <th>4</th>\n      <td>http://www.iracing.com/tracks/gateway-motorspo...</td>\n      <td>55</td>\n      <td>15</td>\n      <td>0</td>\n      <td>2</td>\n      <td>2</td>\n      <td>0</td>\n      <td>0</td>\n      <td>0</td>\n      <td>0</td>\n      <td>...</td>\n      <td>0</td>\n      <td>1</td>\n      <td>0</td>\n      <td>224</td>\n      <td>8175</td>\n      <td>8725</td>\n      <td>0</td>\n      <td>0</td>\n      <td>6</td>\n      <td>legitimate</td>\n    </tr>\n  </tbody>\n</table>\n<p>5 rows × 89 columns</p>\n</div>"
     },
     "execution_count": 2,
     "metadata": {},
     "output_type": "execute_result"
    }
   ],
   "source": [
    "df = pd.read_csv('data/dataset_phishing.csv')\n",
    "df.head()"
   ]
  },
  {
   "cell_type": "code",
   "execution_count": 3,
   "id": "db80fd27d706bae3",
   "metadata": {
    "collapsed": false,
    "ExecuteTime": {
     "end_time": "2024-01-25T00:52:00.578175800Z",
     "start_time": "2024-01-25T00:52:00.532074700Z"
    }
   },
   "outputs": [],
   "source": [
    "features = df[[\n",
    "    # 'url', \n",
    "    'length_url',\n",
    "    'length_hostname',\n",
    "    'ip',\n",
    "    # 'nb_www', \n",
    "    # 'nb_com',\n",
    "    # 'nb_dslash', \n",
    "    'http_in_path',\n",
    "    'https_token',\n",
    "    # 'ratio_digits_url',\n",
    "    # 'ratio_digits_host', \n",
    "    'punycode',\n",
    "    'port',\n",
    "    'tld_in_path',\n",
    "    'tld_in_subdomain',\n",
    "    'abnormal_subdomain',\n",
    "    # 'nb_subdomains',\n",
    "    'prefix_suffix',\n",
    "    'random_domain',\n",
    "    'shortening_service',\n",
    "    'path_extension',\n",
    "    # 'nb_redirection', 'nb_external_redirection',\n",
    "    'phish_hints',\n",
    "    'domain_in_brand',\n",
    "    'brand_in_subdomain',\n",
    "    'brand_in_path',\n",
    "    'suspecious_tld',\n",
    "    'statistical_report',\n",
    "    # 'nb_hyperlinks', \n",
    "    # 'ratio_intHyperlinks',\n",
    "    # 'ratio_extHyperlinks', 'ratio_nullHyperlinks', 'nb_extCSS',\n",
    "    # 'ratio_intRedirection', 'ratio_extRedirection', 'ratio_intErrors',\n",
    "    # 'ratio_extErrors', \n",
    "    'login_form',\n",
    "    'external_favicon',\n",
    "    # 'links_in_tags',\n",
    "    # 'submit_email',  0's across the board\n",
    "    # 'ratio_intMedia', 'ratio_extMedia', \n",
    "    # 'sfh', 0's across the board\n",
    "    'iframe',\n",
    "    'popup_window',\n",
    "    'onmouseover',\n",
    "    'right_clic',\n",
    "    'empty_title',\n",
    "    'domain_in_title',\n",
    "    'domain_with_copyright',\n",
    "    'whois_registered_domain',\n",
    "    'domain_registration_length', 'domain_age',\n",
    "    'web_traffic', 'dns_record', 'google_index', 'page_rank', 'status']].copy()"
   ]
  },
  {
   "cell_type": "markdown",
   "id": "8d8c92b4832715de",
   "metadata": {
    "collapsed": false
   },
   "source": [
    "### Encoding\n",
    "\n",
    "Solamente es necesario en la parte del objetivo, ya que es la única variable categórica."
   ]
  },
  {
   "cell_type": "code",
   "execution_count": 4,
   "id": "a0f84763ae3ada53",
   "metadata": {
    "collapsed": false,
    "ExecuteTime": {
     "end_time": "2024-01-25T00:52:00.665146600Z",
     "start_time": "2024-01-25T00:52:00.546118700Z"
    }
   },
   "outputs": [],
   "source": [
    "features['status'] = features['status'].map({'phishing': 1, 'legitimate': 0})"
   ]
  },
  {
   "cell_type": "code",
   "execution_count": 5,
   "id": "6eb745a550817d0d",
   "metadata": {
    "collapsed": false,
    "ExecuteTime": {
     "end_time": "2024-01-25T00:52:00.820572300Z",
     "start_time": "2024-01-25T00:52:00.562911300Z"
    }
   },
   "outputs": [
    {
     "data": {
      "text/plain": "         length_url  length_hostname            ip  http_in_path  \\\ncount  11430.000000     11430.000000  11430.000000  11430.000000   \nmean      61.126684        21.090289      0.150569      0.016710   \nstd       55.297318        10.777171      0.357644      0.169358   \nmin       12.000000         4.000000      0.000000      0.000000   \n25%       33.000000        15.000000      0.000000      0.000000   \n50%       47.000000        19.000000      0.000000      0.000000   \n75%       71.000000        24.000000      0.000000      0.000000   \nmax     1641.000000       214.000000      1.000000      4.000000   \n\n        https_token      punycode          port   tld_in_path  \\\ncount  11430.000000  11430.000000  11430.000000  11430.000000   \nmean       0.610936      0.000350      0.002362      0.065617   \nstd        0.487559      0.018705      0.048547      0.247622   \nmin        0.000000      0.000000      0.000000      0.000000   \n25%        0.000000      0.000000      0.000000      0.000000   \n50%        1.000000      0.000000      0.000000      0.000000   \n75%        1.000000      0.000000      0.000000      0.000000   \nmax        1.000000      1.000000      1.000000      1.000000   \n\n       tld_in_subdomain  abnormal_subdomain  ...  domain_in_title  \\\ncount      11430.000000        11430.000000  ...     11430.000000   \nmean           0.050131            0.021610  ...         0.775853   \nstd            0.218225            0.145412  ...         0.417038   \nmin            0.000000            0.000000  ...         0.000000   \n25%            0.000000            0.000000  ...         1.000000   \n50%            0.000000            0.000000  ...         1.000000   \n75%            0.000000            0.000000  ...         1.000000   \nmax            1.000000            1.000000  ...         1.000000   \n\n       domain_with_copyright  whois_registered_domain  \\\ncount           11430.000000             11430.000000   \nmean                0.439545                 0.072878   \nstd                 0.496353                 0.259948   \nmin                 0.000000                 0.000000   \n25%                 0.000000                 0.000000   \n50%                 0.000000                 0.000000   \n75%                 1.000000                 0.000000   \nmax                 1.000000                 1.000000   \n\n       domain_registration_length    domain_age   web_traffic    dns_record  \\\ncount                11430.000000  11430.000000  1.143000e+04  11430.000000   \nmean                   492.532196   4062.543745  8.567566e+05      0.020122   \nstd                    814.769415   3107.784600  1.995606e+06      0.140425   \nmin                     -1.000000    -12.000000  0.000000e+00      0.000000   \n25%                     84.000000    972.250000  0.000000e+00      0.000000   \n50%                    242.000000   3993.000000  1.651000e+03      0.000000   \n75%                    449.000000   7026.750000  3.738455e+05      0.000000   \nmax                  29829.000000  12874.000000  1.076799e+07      1.000000   \n\n       google_index     page_rank        status  \ncount  11430.000000  11430.000000  11430.000000  \nmean       0.533946      3.185739      0.500000  \nstd        0.498868      2.536955      0.500022  \nmin        0.000000      0.000000      0.000000  \n25%        0.000000      1.000000      0.000000  \n50%        1.000000      3.000000      0.500000  \n75%        1.000000      5.000000      1.000000  \nmax        1.000000     10.000000      1.000000  \n\n[8 rows x 37 columns]",
      "text/html": "<div>\n<style scoped>\n    .dataframe tbody tr th:only-of-type {\n        vertical-align: middle;\n    }\n\n    .dataframe tbody tr th {\n        vertical-align: top;\n    }\n\n    .dataframe thead th {\n        text-align: right;\n    }\n</style>\n<table border=\"1\" class=\"dataframe\">\n  <thead>\n    <tr style=\"text-align: right;\">\n      <th></th>\n      <th>length_url</th>\n      <th>length_hostname</th>\n      <th>ip</th>\n      <th>http_in_path</th>\n      <th>https_token</th>\n      <th>punycode</th>\n      <th>port</th>\n      <th>tld_in_path</th>\n      <th>tld_in_subdomain</th>\n      <th>abnormal_subdomain</th>\n      <th>...</th>\n      <th>domain_in_title</th>\n      <th>domain_with_copyright</th>\n      <th>whois_registered_domain</th>\n      <th>domain_registration_length</th>\n      <th>domain_age</th>\n      <th>web_traffic</th>\n      <th>dns_record</th>\n      <th>google_index</th>\n      <th>page_rank</th>\n      <th>status</th>\n    </tr>\n  </thead>\n  <tbody>\n    <tr>\n      <th>count</th>\n      <td>11430.000000</td>\n      <td>11430.000000</td>\n      <td>11430.000000</td>\n      <td>11430.000000</td>\n      <td>11430.000000</td>\n      <td>11430.000000</td>\n      <td>11430.000000</td>\n      <td>11430.000000</td>\n      <td>11430.000000</td>\n      <td>11430.000000</td>\n      <td>...</td>\n      <td>11430.000000</td>\n      <td>11430.000000</td>\n      <td>11430.000000</td>\n      <td>11430.000000</td>\n      <td>11430.000000</td>\n      <td>1.143000e+04</td>\n      <td>11430.000000</td>\n      <td>11430.000000</td>\n      <td>11430.000000</td>\n      <td>11430.000000</td>\n    </tr>\n    <tr>\n      <th>mean</th>\n      <td>61.126684</td>\n      <td>21.090289</td>\n      <td>0.150569</td>\n      <td>0.016710</td>\n      <td>0.610936</td>\n      <td>0.000350</td>\n      <td>0.002362</td>\n      <td>0.065617</td>\n      <td>0.050131</td>\n      <td>0.021610</td>\n      <td>...</td>\n      <td>0.775853</td>\n      <td>0.439545</td>\n      <td>0.072878</td>\n      <td>492.532196</td>\n      <td>4062.543745</td>\n      <td>8.567566e+05</td>\n      <td>0.020122</td>\n      <td>0.533946</td>\n      <td>3.185739</td>\n      <td>0.500000</td>\n    </tr>\n    <tr>\n      <th>std</th>\n      <td>55.297318</td>\n      <td>10.777171</td>\n      <td>0.357644</td>\n      <td>0.169358</td>\n      <td>0.487559</td>\n      <td>0.018705</td>\n      <td>0.048547</td>\n      <td>0.247622</td>\n      <td>0.218225</td>\n      <td>0.145412</td>\n      <td>...</td>\n      <td>0.417038</td>\n      <td>0.496353</td>\n      <td>0.259948</td>\n      <td>814.769415</td>\n      <td>3107.784600</td>\n      <td>1.995606e+06</td>\n      <td>0.140425</td>\n      <td>0.498868</td>\n      <td>2.536955</td>\n      <td>0.500022</td>\n    </tr>\n    <tr>\n      <th>min</th>\n      <td>12.000000</td>\n      <td>4.000000</td>\n      <td>0.000000</td>\n      <td>0.000000</td>\n      <td>0.000000</td>\n      <td>0.000000</td>\n      <td>0.000000</td>\n      <td>0.000000</td>\n      <td>0.000000</td>\n      <td>0.000000</td>\n      <td>...</td>\n      <td>0.000000</td>\n      <td>0.000000</td>\n      <td>0.000000</td>\n      <td>-1.000000</td>\n      <td>-12.000000</td>\n      <td>0.000000e+00</td>\n      <td>0.000000</td>\n      <td>0.000000</td>\n      <td>0.000000</td>\n      <td>0.000000</td>\n    </tr>\n    <tr>\n      <th>25%</th>\n      <td>33.000000</td>\n      <td>15.000000</td>\n      <td>0.000000</td>\n      <td>0.000000</td>\n      <td>0.000000</td>\n      <td>0.000000</td>\n      <td>0.000000</td>\n      <td>0.000000</td>\n      <td>0.000000</td>\n      <td>0.000000</td>\n      <td>...</td>\n      <td>1.000000</td>\n      <td>0.000000</td>\n      <td>0.000000</td>\n      <td>84.000000</td>\n      <td>972.250000</td>\n      <td>0.000000e+00</td>\n      <td>0.000000</td>\n      <td>0.000000</td>\n      <td>1.000000</td>\n      <td>0.000000</td>\n    </tr>\n    <tr>\n      <th>50%</th>\n      <td>47.000000</td>\n      <td>19.000000</td>\n      <td>0.000000</td>\n      <td>0.000000</td>\n      <td>1.000000</td>\n      <td>0.000000</td>\n      <td>0.000000</td>\n      <td>0.000000</td>\n      <td>0.000000</td>\n      <td>0.000000</td>\n      <td>...</td>\n      <td>1.000000</td>\n      <td>0.000000</td>\n      <td>0.000000</td>\n      <td>242.000000</td>\n      <td>3993.000000</td>\n      <td>1.651000e+03</td>\n      <td>0.000000</td>\n      <td>1.000000</td>\n      <td>3.000000</td>\n      <td>0.500000</td>\n    </tr>\n    <tr>\n      <th>75%</th>\n      <td>71.000000</td>\n      <td>24.000000</td>\n      <td>0.000000</td>\n      <td>0.000000</td>\n      <td>1.000000</td>\n      <td>0.000000</td>\n      <td>0.000000</td>\n      <td>0.000000</td>\n      <td>0.000000</td>\n      <td>0.000000</td>\n      <td>...</td>\n      <td>1.000000</td>\n      <td>1.000000</td>\n      <td>0.000000</td>\n      <td>449.000000</td>\n      <td>7026.750000</td>\n      <td>3.738455e+05</td>\n      <td>0.000000</td>\n      <td>1.000000</td>\n      <td>5.000000</td>\n      <td>1.000000</td>\n    </tr>\n    <tr>\n      <th>max</th>\n      <td>1641.000000</td>\n      <td>214.000000</td>\n      <td>1.000000</td>\n      <td>4.000000</td>\n      <td>1.000000</td>\n      <td>1.000000</td>\n      <td>1.000000</td>\n      <td>1.000000</td>\n      <td>1.000000</td>\n      <td>1.000000</td>\n      <td>...</td>\n      <td>1.000000</td>\n      <td>1.000000</td>\n      <td>1.000000</td>\n      <td>29829.000000</td>\n      <td>12874.000000</td>\n      <td>1.076799e+07</td>\n      <td>1.000000</td>\n      <td>1.000000</td>\n      <td>10.000000</td>\n      <td>1.000000</td>\n    </tr>\n  </tbody>\n</table>\n<p>8 rows × 37 columns</p>\n</div>"
     },
     "execution_count": 5,
     "metadata": {},
     "output_type": "execute_result"
    }
   ],
   "source": [
    "features.describe()"
   ]
  },
  {
   "cell_type": "code",
   "execution_count": 6,
   "id": "75d1d8940c5f7e57",
   "metadata": {
    "collapsed": false,
    "ExecuteTime": {
     "end_time": "2024-01-25T00:52:01.007217Z",
     "start_time": "2024-01-25T00:52:00.698284300Z"
    }
   },
   "outputs": [
    {
     "name": "stdout",
     "output_type": "stream",
     "text": [
      "<class 'pandas.core.frame.DataFrame'>\n",
      "RangeIndex: 11430 entries, 0 to 11429\n",
      "Data columns (total 37 columns):\n",
      " #   Column                      Non-Null Count  Dtype\n",
      "---  ------                      --------------  -----\n",
      " 0   length_url                  11430 non-null  int64\n",
      " 1   length_hostname             11430 non-null  int64\n",
      " 2   ip                          11430 non-null  int64\n",
      " 3   http_in_path                11430 non-null  int64\n",
      " 4   https_token                 11430 non-null  int64\n",
      " 5   punycode                    11430 non-null  int64\n",
      " 6   port                        11430 non-null  int64\n",
      " 7   tld_in_path                 11430 non-null  int64\n",
      " 8   tld_in_subdomain            11430 non-null  int64\n",
      " 9   abnormal_subdomain          11430 non-null  int64\n",
      " 10  prefix_suffix               11430 non-null  int64\n",
      " 11  random_domain               11430 non-null  int64\n",
      " 12  shortening_service          11430 non-null  int64\n",
      " 13  path_extension              11430 non-null  int64\n",
      " 14  phish_hints                 11430 non-null  int64\n",
      " 15  domain_in_brand             11430 non-null  int64\n",
      " 16  brand_in_subdomain          11430 non-null  int64\n",
      " 17  brand_in_path               11430 non-null  int64\n",
      " 18  suspecious_tld              11430 non-null  int64\n",
      " 19  statistical_report          11430 non-null  int64\n",
      " 20  login_form                  11430 non-null  int64\n",
      " 21  external_favicon            11430 non-null  int64\n",
      " 22  iframe                      11430 non-null  int64\n",
      " 23  popup_window                11430 non-null  int64\n",
      " 24  onmouseover                 11430 non-null  int64\n",
      " 25  right_clic                  11430 non-null  int64\n",
      " 26  empty_title                 11430 non-null  int64\n",
      " 27  domain_in_title             11430 non-null  int64\n",
      " 28  domain_with_copyright       11430 non-null  int64\n",
      " 29  whois_registered_domain     11430 non-null  int64\n",
      " 30  domain_registration_length  11430 non-null  int64\n",
      " 31  domain_age                  11430 non-null  int64\n",
      " 32  web_traffic                 11430 non-null  int64\n",
      " 33  dns_record                  11430 non-null  int64\n",
      " 34  google_index                11430 non-null  int64\n",
      " 35  page_rank                   11430 non-null  int64\n",
      " 36  status                      11430 non-null  int64\n",
      "dtypes: int64(37)\n",
      "memory usage: 3.2 MB\n"
     ]
    }
   ],
   "source": [
    "features.info()"
   ]
  },
  {
   "cell_type": "markdown",
   "id": "c128dbbaf43dd76b",
   "metadata": {
    "collapsed": false
   },
   "source": [
    "### Balanceo de clases\n",
    "\n",
    "No necesita de ningún balanceo de clases."
   ]
  },
  {
   "cell_type": "code",
   "execution_count": 7,
   "id": "e7cedd05438654aa",
   "metadata": {
    "collapsed": false,
    "ExecuteTime": {
     "end_time": "2024-01-25T00:52:01.027200300Z",
     "start_time": "2024-01-25T00:52:00.715546300Z"
    }
   },
   "outputs": [
    {
     "data": {
      "text/plain": "status\n0    5715\n1    5715\nName: count, dtype: int64"
     },
     "execution_count": 7,
     "metadata": {},
     "output_type": "execute_result"
    }
   ],
   "source": [
    "features['status'].value_counts()"
   ]
  },
  {
   "cell_type": "markdown",
   "id": "bd95d90da3c0c2f",
   "metadata": {
    "collapsed": false
   },
   "source": [
    "### Scaling\n",
    "\n",
    "Las magnitudes de los datos son muy diferentes, por lo que es necesario escalarlos.\n",
    "Serán los siguientes features: length_url, length_hostname, domain_registration_length, domain_age, web_traffic, page_rank"
   ]
  },
  {
   "cell_type": "code",
   "execution_count": 8,
   "id": "939db11121d8c8c7",
   "metadata": {
    "collapsed": false,
    "ExecuteTime": {
     "end_time": "2024-01-25T00:52:01.030666900Z",
     "start_time": "2024-01-25T00:52:00.724346700Z"
    }
   },
   "outputs": [],
   "source": [
    "from sklearn.preprocessing import StandardScaler\n",
    "\n",
    "scaler = StandardScaler()"
   ]
  },
  {
   "cell_type": "code",
   "execution_count": 9,
   "id": "416c469e001fbe70",
   "metadata": {
    "collapsed": false,
    "ExecuteTime": {
     "end_time": "2024-01-25T00:52:01.075089200Z",
     "start_time": "2024-01-25T00:52:00.730333900Z"
    }
   },
   "outputs": [],
   "source": [
    "# List of features to scale\n",
    "features_to_scale = ['length_url', 'length_hostname', 'domain_registration_length', 'domain_age', 'web_traffic',\n",
    "                     'page_rank']\n",
    "\n",
    "# Apply the scaler to the features in the list\n",
    "features[features_to_scale] = scaler.fit_transform(features[features_to_scale])"
   ]
  },
  {
   "cell_type": "code",
   "execution_count": 10,
   "id": "7415b1147005a77a",
   "metadata": {
    "collapsed": false,
    "ExecuteTime": {
     "end_time": "2024-01-25T00:52:01.078465100Z",
     "start_time": "2024-01-25T00:52:00.743921800Z"
    }
   },
   "outputs": [
    {
     "data": {
      "text/plain": "length_url                   -5.221836e-17\nlength_hostname              -1.367624e-16\ndomain_registration_length    2.237930e-17\ndomain_age                   -1.243294e-18\nweb_traffic                  -1.429789e-17\npage_rank                    -8.703061e-18\ndtype: float64"
     },
     "execution_count": 10,
     "metadata": {},
     "output_type": "execute_result"
    }
   ],
   "source": [
    "features[features_to_scale].mean()"
   ]
  },
  {
   "cell_type": "markdown",
   "id": "4f0ffe2fbaa0d7bf",
   "metadata": {
    "collapsed": false
   },
   "source": [
    "### Data Splitting"
   ]
  },
  {
   "cell_type": "code",
   "execution_count": 11,
   "id": "2ac32c9fbecf3ce5",
   "metadata": {
    "collapsed": false,
    "ExecuteTime": {
     "end_time": "2024-01-25T00:52:01.104396700Z",
     "start_time": "2024-01-25T00:52:00.755223500Z"
    }
   },
   "outputs": [],
   "source": [
    "from sklearn.model_selection import train_test_split"
   ]
  },
  {
   "cell_type": "code",
   "execution_count": 12,
   "id": "11d635e3b88b5b9d",
   "metadata": {
    "collapsed": false,
    "ExecuteTime": {
     "end_time": "2024-01-25T00:52:01.109185800Z",
     "start_time": "2024-01-25T00:52:00.761145800Z"
    }
   },
   "outputs": [],
   "source": [
    "X = features.drop('status', axis=1)\n",
    "y = features['status']"
   ]
  },
  {
   "cell_type": "code",
   "execution_count": 13,
   "id": "f7e7d6b54cd0283e",
   "metadata": {
    "collapsed": false,
    "ExecuteTime": {
     "end_time": "2024-01-25T00:52:01.111501100Z",
     "start_time": "2024-01-25T00:52:00.769794700Z"
    }
   },
   "outputs": [],
   "source": [
    "X_train, X_test, y_train, y_test = train_test_split(X, y, test_size=0.2, random_state=21562)"
   ]
  },
  {
   "cell_type": "markdown",
   "id": "c34c5f8bf129bcf6",
   "metadata": {
    "collapsed": false
   },
   "source": [
    "## Task 2.1 | Regresión Logística"
   ]
  },
  {
   "cell_type": "markdown",
   "id": "cbfa2b108026c8b1",
   "metadata": {
    "collapsed": false
   },
   "source": [
    "### Entrenamiento sin librerías"
   ]
  },
  {
   "cell_type": "code",
   "execution_count": 14,
   "id": "f34936b534474bc7",
   "metadata": {
    "collapsed": false,
    "ExecuteTime": {
     "end_time": "2024-01-25T00:52:01.114850100Z",
     "start_time": "2024-01-25T00:52:00.782735500Z"
    }
   },
   "outputs": [],
   "source": [
    "class LogisticRegression:\n",
    "    def __init__(self, learning_rate=0.01, iterations=1000):\n",
    "        self.learning_rate = learning_rate\n",
    "        self.iterations = iterations\n",
    "\n",
    "        self.X = None\n",
    "        self.y = None\n",
    "        self.m = None\n",
    "        self.n = None\n",
    "        self.weights = None\n",
    "        self.bias = None\n",
    "        self.sigmoid = None\n",
    "        self.z = None\n",
    "\n",
    "    def fit(self, X, y):\n",
    "        self.X = X\n",
    "        self.y = y\n",
    "\n",
    "        # M = número de ejemplos de entrenamiento\n",
    "        # N = número de características\n",
    "        self.m, self.n = X.shape\n",
    "\n",
    "        # Inicializar los pesos y el bias\n",
    "        self.weights = np.zeros(self.n)\n",
    "        self.bias = 0\n",
    "\n",
    "        # Gradiente descendiente\n",
    "        for i in range(self.iterations):\n",
    "            self.update_weights()\n",
    "\n",
    "    def update_weights(self):\n",
    "        # Modelo Lineal: z = w1x1 + w2x2 + ... + wnxn + b\n",
    "        z = np.dot(self.X, self.weights) + self.bias\n",
    "\n",
    "        # Sigmoide\n",
    "        sigmoid = 1 / (1 + np.exp(-z))\n",
    "\n",
    "        # Derivadas\n",
    "        dw = (1 / self.m) * np.dot(self.X.T, (sigmoid - self.y))\n",
    "        db = (1 / self.m) * np.sum(sigmoid - self.y)\n",
    "\n",
    "        # Actualizar los pesos y el bias\n",
    "        self.weights -= self.learning_rate * dw\n",
    "        self.bias -= self.learning_rate * db\n",
    "\n",
    "    def predict(self, X):\n",
    "        self.z = np.dot(X, self.weights) + self.bias\n",
    "        self.sigmoid = 1 / (1 + np.exp(-self.z))\n",
    "\n",
    "        decision_boundary = 0.5\n",
    "        y_predicted = np.where(self.sigmoid >= decision_boundary, 1, 0)\n",
    "\n",
    "        return y_predicted"
   ]
  },
  {
   "cell_type": "code",
   "execution_count": 15,
   "id": "e163d9e062c2371",
   "metadata": {
    "collapsed": false,
    "ExecuteTime": {
     "end_time": "2024-01-25T00:52:01.139351200Z",
     "start_time": "2024-01-25T00:52:00.794498700Z"
    }
   },
   "outputs": [],
   "source": [
    "classifier = LogisticRegression()"
   ]
  },
  {
   "cell_type": "code",
   "execution_count": 16,
   "id": "cca16a5b2cf7b17",
   "metadata": {
    "collapsed": false,
    "ExecuteTime": {
     "end_time": "2024-01-25T00:52:09.078344Z",
     "start_time": "2024-01-25T00:52:00.800878300Z"
    }
   },
   "outputs": [],
   "source": [
    "classifier.fit(X_train, y_train)"
   ]
  },
  {
   "cell_type": "code",
   "execution_count": 17,
   "id": "e12d17770cda868f",
   "metadata": {
    "collapsed": false,
    "ExecuteTime": {
     "end_time": "2024-01-25T00:52:09.155610400Z",
     "start_time": "2024-01-25T00:52:09.083342800Z"
    }
   },
   "outputs": [],
   "source": [
    "X_train_predictions = classifier.predict(X_train)"
   ]
  },
  {
   "cell_type": "markdown",
   "id": "ff6b585b66d0289",
   "metadata": {
    "collapsed": false
   },
   "source": [
    "### Entrenamiento con librerías"
   ]
  },
  {
   "cell_type": "code",
   "execution_count": 18,
   "id": "acb9bb8e39b4812b",
   "metadata": {
    "collapsed": false,
    "ExecuteTime": {
     "end_time": "2024-01-25T00:52:09.259821Z",
     "start_time": "2024-01-25T00:52:09.104957700Z"
    }
   },
   "outputs": [],
   "source": [
    "from sklearn.linear_model import LogisticRegression"
   ]
  },
  {
   "cell_type": "code",
   "execution_count": 19,
   "id": "e3af02f8eced7670",
   "metadata": {
    "collapsed": false,
    "ExecuteTime": {
     "end_time": "2024-01-25T00:52:09.264735500Z",
     "start_time": "2024-01-25T00:52:09.118235100Z"
    }
   },
   "outputs": [],
   "source": [
    "sk_classifier = LogisticRegression()"
   ]
  },
  {
   "cell_type": "code",
   "execution_count": 20,
   "id": "137fcb84ef2920c3",
   "metadata": {
    "collapsed": false,
    "ExecuteTime": {
     "end_time": "2024-01-25T00:52:09.461370600Z",
     "start_time": "2024-01-25T00:52:09.135197800Z"
    }
   },
   "outputs": [
    {
     "data": {
      "text/plain": "LogisticRegression()",
      "text/html": "<style>#sk-container-id-1 {color: black;}#sk-container-id-1 pre{padding: 0;}#sk-container-id-1 div.sk-toggleable {background-color: white;}#sk-container-id-1 label.sk-toggleable__label {cursor: pointer;display: block;width: 100%;margin-bottom: 0;padding: 0.3em;box-sizing: border-box;text-align: center;}#sk-container-id-1 label.sk-toggleable__label-arrow:before {content: \"▸\";float: left;margin-right: 0.25em;color: #696969;}#sk-container-id-1 label.sk-toggleable__label-arrow:hover:before {color: black;}#sk-container-id-1 div.sk-estimator:hover label.sk-toggleable__label-arrow:before {color: black;}#sk-container-id-1 div.sk-toggleable__content {max-height: 0;max-width: 0;overflow: hidden;text-align: left;background-color: #f0f8ff;}#sk-container-id-1 div.sk-toggleable__content pre {margin: 0.2em;color: black;border-radius: 0.25em;background-color: #f0f8ff;}#sk-container-id-1 input.sk-toggleable__control:checked~div.sk-toggleable__content {max-height: 200px;max-width: 100%;overflow: auto;}#sk-container-id-1 input.sk-toggleable__control:checked~label.sk-toggleable__label-arrow:before {content: \"▾\";}#sk-container-id-1 div.sk-estimator input.sk-toggleable__control:checked~label.sk-toggleable__label {background-color: #d4ebff;}#sk-container-id-1 div.sk-label input.sk-toggleable__control:checked~label.sk-toggleable__label {background-color: #d4ebff;}#sk-container-id-1 input.sk-hidden--visually {border: 0;clip: rect(1px 1px 1px 1px);clip: rect(1px, 1px, 1px, 1px);height: 1px;margin: -1px;overflow: hidden;padding: 0;position: absolute;width: 1px;}#sk-container-id-1 div.sk-estimator {font-family: monospace;background-color: #f0f8ff;border: 1px dotted black;border-radius: 0.25em;box-sizing: border-box;margin-bottom: 0.5em;}#sk-container-id-1 div.sk-estimator:hover {background-color: #d4ebff;}#sk-container-id-1 div.sk-parallel-item::after {content: \"\";width: 100%;border-bottom: 1px solid gray;flex-grow: 1;}#sk-container-id-1 div.sk-label:hover label.sk-toggleable__label {background-color: #d4ebff;}#sk-container-id-1 div.sk-serial::before {content: \"\";position: absolute;border-left: 1px solid gray;box-sizing: border-box;top: 0;bottom: 0;left: 50%;z-index: 0;}#sk-container-id-1 div.sk-serial {display: flex;flex-direction: column;align-items: center;background-color: white;padding-right: 0.2em;padding-left: 0.2em;position: relative;}#sk-container-id-1 div.sk-item {position: relative;z-index: 1;}#sk-container-id-1 div.sk-parallel {display: flex;align-items: stretch;justify-content: center;background-color: white;position: relative;}#sk-container-id-1 div.sk-item::before, #sk-container-id-1 div.sk-parallel-item::before {content: \"\";position: absolute;border-left: 1px solid gray;box-sizing: border-box;top: 0;bottom: 0;left: 50%;z-index: -1;}#sk-container-id-1 div.sk-parallel-item {display: flex;flex-direction: column;z-index: 1;position: relative;background-color: white;}#sk-container-id-1 div.sk-parallel-item:first-child::after {align-self: flex-end;width: 50%;}#sk-container-id-1 div.sk-parallel-item:last-child::after {align-self: flex-start;width: 50%;}#sk-container-id-1 div.sk-parallel-item:only-child::after {width: 0;}#sk-container-id-1 div.sk-dashed-wrapped {border: 1px dashed gray;margin: 0 0.4em 0.5em 0.4em;box-sizing: border-box;padding-bottom: 0.4em;background-color: white;}#sk-container-id-1 div.sk-label label {font-family: monospace;font-weight: bold;display: inline-block;line-height: 1.2em;}#sk-container-id-1 div.sk-label-container {text-align: center;}#sk-container-id-1 div.sk-container {/* jupyter's `normalize.less` sets `[hidden] { display: none; }` but bootstrap.min.css set `[hidden] { display: none !important; }` so we also need the `!important` here to be able to override the default hidden behavior on the sphinx rendered scikit-learn.org. See: https://github.com/scikit-learn/scikit-learn/issues/21755 */display: inline-block !important;position: relative;}#sk-container-id-1 div.sk-text-repr-fallback {display: none;}</style><div id=\"sk-container-id-1\" class=\"sk-top-container\"><div class=\"sk-text-repr-fallback\"><pre>LogisticRegression()</pre><b>In a Jupyter environment, please rerun this cell to show the HTML representation or trust the notebook. <br />On GitHub, the HTML representation is unable to render, please try loading this page with nbviewer.org.</b></div><div class=\"sk-container\" hidden><div class=\"sk-item\"><div class=\"sk-estimator sk-toggleable\"><input class=\"sk-toggleable__control sk-hidden--visually\" id=\"sk-estimator-id-1\" type=\"checkbox\" checked><label for=\"sk-estimator-id-1\" class=\"sk-toggleable__label sk-toggleable__label-arrow\">LogisticRegression</label><div class=\"sk-toggleable__content\"><pre>LogisticRegression()</pre></div></div></div></div></div>"
     },
     "execution_count": 20,
     "metadata": {},
     "output_type": "execute_result"
    }
   ],
   "source": [
    "sk_classifier.fit(X_train, y_train)"
   ]
  },
  {
   "cell_type": "code",
   "execution_count": 21,
   "id": "7a29b93d9bcb28e2",
   "metadata": {
    "collapsed": false,
    "ExecuteTime": {
     "end_time": "2024-01-25T00:52:09.491786200Z",
     "start_time": "2024-01-25T00:52:09.449163200Z"
    }
   },
   "outputs": [],
   "source": [
    "sk_X_train_predictions = sk_classifier.predict(X_train)"
   ]
  },
  {
   "cell_type": "markdown",
   "id": "4d05d900c8505de9",
   "metadata": {
    "collapsed": false
   },
   "source": [
    "### Medición de desempeño\n",
    "\n",
    "Se utiliza la métrica de _precision_ para medir el desempeño del modelo. Esto debido a la necesidad de conocer la cantidad de predicciones correctas realizadas por el modelo, es decir, la cantidad de predicciones positivas que fueron correctas."
   ]
  },
  {
   "cell_type": "code",
   "execution_count": 22,
   "id": "8238ab46581ba14f",
   "metadata": {
    "collapsed": false,
    "ExecuteTime": {
     "end_time": "2024-01-25T00:52:09.513798200Z",
     "start_time": "2024-01-25T00:52:09.462366900Z"
    }
   },
   "outputs": [],
   "source": [
    "from sklearn.metrics import precision_score"
   ]
  },
  {
   "cell_type": "code",
   "execution_count": 23,
   "id": "7e98173f8e7ffbf2",
   "metadata": {
    "collapsed": false,
    "ExecuteTime": {
     "end_time": "2024-01-25T00:52:09.560152200Z",
     "start_time": "2024-01-25T00:52:09.469472300Z"
    }
   },
   "outputs": [
    {
     "name": "stdout",
     "output_type": "stream",
     "text": [
      "Precision sin librerias:0.883\n",
      "Precision con librerias:0.910\n"
     ]
    }
   ],
   "source": [
    "print('Precision sin librerias:{:.3f}'.format(precision_score(y_train, X_train_predictions)))\n",
    "print('Precision con librerias:{:.3f}'.format(precision_score(y_train, sk_X_train_predictions)))"
   ]
  },
  {
   "cell_type": "markdown",
   "id": "13dc6c3bba04560c",
   "metadata": {
    "collapsed": false
   },
   "source": [
    "### ¿Qué implementación fue mejor? ¿Por qué?\n",
    "\n",
    "EL modelo de la librería _sklearn_ ha tenido mejores resultados que el modelo implementado sin librerías. Esto se debe a que la librería utiliza un algoritmo de optimización más eficiente que el utilizado en la implementación sin librerías. También incluye regularización para evitar el sobreajuste; y es desarrollada por expertos en el tema. En resumen, tiene muchas más técnicas \"_under the hood_\" que la implementación sin librerías en conjunto con el _expertise_ de profesionales."
   ]
  },
  {
   "cell_type": "markdown",
   "id": "a226f677842a92b1",
   "metadata": {
    "collapsed": false
   },
   "source": [
    "### Gráficas de grupos encontrados"
   ]
  },
  {
   "cell_type": "code",
   "execution_count": 24,
   "id": "5d0de7a81fece59c",
   "metadata": {
    "collapsed": false,
    "ExecuteTime": {
     "end_time": "2024-01-25T00:52:10.012988Z",
     "start_time": "2024-01-25T00:52:09.490685700Z"
    }
   },
   "outputs": [
    {
     "data": {
      "text/plain": "<Figure size 1000x700 with 1 Axes>",
      "image/png": "[encoded data removed]"
     },
     "metadata": {},
     "output_type": "display_data"
    },
    {
     "name": "stdout",
     "output_type": "stream",
     "text": [
      "The amount of data analyzed is 9144.\n"
     ]
    }
   ],
   "source": [
    "plt.figure(figsize=(10, 7))\n",
    "\n",
    "# Plot decision boundary\n",
    "plt.axvline(0.5, color='k', linestyle='--', label='Decision Boundary')\n",
    "\n",
    "# Plot predictions\n",
    "feature1 = 'length_url'\n",
    "feature2 = 'web_traffic'\n",
    "plt.scatter(X_train[feature1][y_train == 0], X_train[feature2][y_train == 0], c='b', marker=\"o\", label='Legitimate')\n",
    "plt.scatter(X_train[feature1][y_train == 1], X_train[feature2][y_train == 1], c='r', marker=\"X\", label='Phishing')\n",
    "\n",
    "# Label the axes         \n",
    "plt.xlabel(feature1)\n",
    "plt.ylabel(feature2)\n",
    "plt.legend()\n",
    "\n",
    "# Add title\n",
    "plt.title('Logistic Regression Based on {} and {}'.format(feature1, feature2))\n",
    "\n",
    "plt.show()\n",
    "\n",
    "print(\"The amount of data analyzed is {}.\".format(len(X_train)))"
   ]
  },
  {
   "cell_type": "markdown",
   "id": "9c9bfd3cda6b4ccb",
   "metadata": {
    "collapsed": false
   },
   "source": [
    "### Comentarios sobre la implementación\n",
    "La implementación requiere de una comprensión de la matemática del modelo, para poder \"traducir\" ese entendimiento a código. De la misma manera que el comprender que tipos de datos estamos utilizando y su significado, para poder realizar un preprocesamiento adecuado. También es necesario conocer las métricas de desempeño para poder evaluar el modelo tras un análisis de cuál es la que más se adecua a las necesidades del problema."
   ]
  },
  {
   "cell_type": "markdown",
   "id": "3a0b7578ce760a08",
   "metadata": {
    "collapsed": false
   },
   "source": [
    "## Task 2.2 | KNN"
   ]
  },
  {
   "cell_type": "markdown",
   "id": "a7077762142e485b",
   "metadata": {
    "collapsed": false
   },
   "source": [
    "### Entrenamiento sin librerías"
   ]
  },
  {
   "cell_type": "code",
   "execution_count": 25,
   "id": "3d657e44",
   "metadata": {
    "ExecuteTime": {
     "end_time": "2024-01-25T00:52:10.057910Z",
     "start_time": "2024-01-25T00:52:10.014116100Z"
    }
   },
   "outputs": [],
   "source": [
    "# function to calculate the Euclidean distance between two data points\n",
    "def euclideanDistance(x1, x2):\n",
    "    return np.linalg.norm(x1 - x2)"
   ]
  },
  {
   "cell_type": "code",
   "execution_count": 26,
   "id": "98bb7e02",
   "metadata": {
    "ExecuteTime": {
     "end_time": "2024-01-25T00:52:10.309798400Z",
     "start_time": "2024-01-25T00:52:10.026029300Z"
    }
   },
   "outputs": [],
   "source": [
    "# function to find the k nearest neighbors based on the calculated distances\n",
    "def getNeighbors(X_train, y_train, x_test, k):\n",
    "    distances = []\n",
    "    for i in range(len(X_train)):\n",
    "        dist = euclideanDistance(x_test, X_train[i])\n",
    "        distances.append((X_train[i], y_train[i], dist))\n",
    "    distances.sort(key=lambda x: x[2])\n",
    "    neighbors = []\n",
    "    for i in range(k):\n",
    "        neighbors.append((distances[i][0], distances[i][1]))\n",
    "    return neighbors"
   ]
  },
  {
   "cell_type": "code",
   "execution_count": 27,
   "id": "71e48671",
   "metadata": {
    "ExecuteTime": {
     "end_time": "2024-01-25T00:52:10.310982Z",
     "start_time": "2024-01-25T00:52:10.039300300Z"
    }
   },
   "outputs": [],
   "source": [
    "# classification method\n",
    "def predictClassification(X_train, y_train, x_test, k):\n",
    "    neighbors = getNeighbors(X_train, y_train, x_test, k)\n",
    "    classes = {}\n",
    "    for i in range(len(neighbors)):\n",
    "        response = neighbors[i][1]\n",
    "        if response in classes:\n",
    "            classes[response] += 1\n",
    "        else:\n",
    "            classes[response] = 1\n",
    "    sorted_classes = sorted(classes.items(), key=lambda x: x[1], reverse=True)\n",
    "    predicted_class = sorted_classes[0][0]\n",
    "    num_predictions = sorted_classes[0][1]\n",
    "    return predicted_class, num_predictions"
   ]
  },
  {
   "cell_type": "code",
   "execution_count": 28,
   "id": "12f8a9c7",
   "metadata": {
    "ExecuteTime": {
     "end_time": "2024-01-25T00:52:10.337440100Z",
     "start_time": "2024-01-25T00:52:10.053187100Z"
    }
   },
   "outputs": [],
   "source": [
    "# knn class to stablish an instance\n",
    "class KNNAlgorithm:\n",
    "    def __init__(self, groups=3):\n",
    "        self.k = groups\n",
    "\n",
    "    def fit(self, X_data_train, y_data_train):\n",
    "        self.XTrain = X_data_train\n",
    "        self.yTrain = y_data_train\n",
    "\n",
    "    def predict(self, X_data_test):\n",
    "        predictions = [self._predict(x) for x in X_data_test]\n",
    "        return predictions\n",
    "\n",
    "    def _predict(self, x):\n",
    "        distances = [self.euclideanDistance(x, x_train) for x_train in self.XTrain]\n",
    "        k_indices = np.argsort(distances)[:self.k]\n",
    "        k_neighbors = [self.yTrain[i] for i in k_indices]\n",
    "        most_common = Counter(k_neighbors).most_common()\n",
    "        predicted_class = most_common[0][0]\n",
    "        num_predictions = most_common[0][1]\n",
    "        return predicted_class, num_predictions\n",
    "\n",
    "    def euclideanDistance(self, x1, x2):\n",
    "        return np.sqrt(np.sum((x1 - x2) ** 2))"
   ]
  },
  {
   "cell_type": "code",
   "outputs": [],
   "source": [
    "knn_model = KNNAlgorithm(groups=2)\n",
    "\n",
    "# training\n",
    "knn_model.fit(X_train.values, y_train.values)\n",
    "predictions = knn_model.predict(X_test.values)\n",
    "predicted_classes = np.array([pred[0] for pred in predictions])"
   ],
   "metadata": {
    "collapsed": false,
    "ExecuteTime": {
     "end_time": "2024-01-25T00:54:25.122085200Z",
     "start_time": "2024-01-25T00:52:10.067049Z"
    }
   },
   "id": "30db46aca757b7a5",
   "execution_count": 29
  },
  {
   "cell_type": "code",
   "outputs": [
    {
     "name": "stdout",
     "output_type": "stream",
     "text": [
      "Accuracy: 0.9286964129483815\n"
     ]
    }
   ],
   "source": [
    "acc = accuracy_score(y_test, predicted_classes)\n",
    "print(\"Accuracy:\", acc)"
   ],
   "metadata": {
    "collapsed": false,
    "ExecuteTime": {
     "end_time": "2024-01-25T00:54:25.131078400Z",
     "start_time": "2024-01-25T00:54:25.122136600Z"
    }
   },
   "id": "4505bec1a6964a41",
   "execution_count": 30
  },
  {
   "cell_type": "markdown",
   "id": "924e6e1cebd5cfdc",
   "metadata": {
    "collapsed": false
   },
   "source": [
    "### Entrenamiento con librerías"
   ]
  },
  {
   "cell_type": "code",
   "execution_count": 31,
   "id": "edb54ed0",
   "metadata": {
    "ExecuteTime": {
     "end_time": "2024-01-25T00:54:25.156800500Z",
     "start_time": "2024-01-25T00:54:25.131078400Z"
    }
   },
   "outputs": [],
   "source": [
    "# create a KNN classifier\n",
    "knn = KNeighborsClassifier(n_neighbors=5)"
   ]
  },
  {
   "cell_type": "code",
   "execution_count": 35,
   "id": "3159c1f4",
   "metadata": {
    "ExecuteTime": {
     "end_time": "2024-01-25T01:00:32.195296Z",
     "start_time": "2024-01-25T01:00:32.144288900Z"
    }
   },
   "outputs": [
    {
     "data": {
      "text/plain": "KNeighborsClassifier()",
      "text/html": "<style>#sk-container-id-3 {color: black;}#sk-container-id-3 pre{padding: 0;}#sk-container-id-3 div.sk-toggleable {background-color: white;}#sk-container-id-3 label.sk-toggleable__label {cursor: pointer;display: block;width: 100%;margin-bottom: 0;padding: 0.3em;box-sizing: border-box;text-align: center;}#sk-container-id-3 label.sk-toggleable__label-arrow:before {content: \"▸\";float: left;margin-right: 0.25em;color: #696969;}#sk-container-id-3 label.sk-toggleable__label-arrow:hover:before {color: black;}#sk-container-id-3 div.sk-estimator:hover label.sk-toggleable__label-arrow:before {color: black;}#sk-container-id-3 div.sk-toggleable__content {max-height: 0;max-width: 0;overflow: hidden;text-align: left;background-color: #f0f8ff;}#sk-container-id-3 div.sk-toggleable__content pre {margin: 0.2em;color: black;border-radius: 0.25em;background-color: #f0f8ff;}#sk-container-id-3 input.sk-toggleable__control:checked~div.sk-toggleable__content {max-height: 200px;max-width: 100%;overflow: auto;}#sk-container-id-3 input.sk-toggleable__control:checked~label.sk-toggleable__label-arrow:before {content: \"▾\";}#sk-container-id-3 div.sk-estimator input.sk-toggleable__control:checked~label.sk-toggleable__label {background-color: #d4ebff;}#sk-container-id-3 div.sk-label input.sk-toggleable__control:checked~label.sk-toggleable__label {background-color: #d4ebff;}#sk-container-id-3 input.sk-hidden--visually {border: 0;clip: rect(1px 1px 1px 1px);clip: rect(1px, 1px, 1px, 1px);height: 1px;margin: -1px;overflow: hidden;padding: 0;position: absolute;width: 1px;}#sk-container-id-3 div.sk-estimator {font-family: monospace;background-color: #f0f8ff;border: 1px dotted black;border-radius: 0.25em;box-sizing: border-box;margin-bottom: 0.5em;}#sk-container-id-3 div.sk-estimator:hover {background-color: #d4ebff;}#sk-container-id-3 div.sk-parallel-item::after {content: \"\";width: 100%;border-bottom: 1px solid gray;flex-grow: 1;}#sk-container-id-3 div.sk-label:hover label.sk-toggleable__label {background-color: #d4ebff;}#sk-container-id-3 div.sk-serial::before {content: \"\";position: absolute;border-left: 1px solid gray;box-sizing: border-box;top: 0;bottom: 0;left: 50%;z-index: 0;}#sk-container-id-3 div.sk-serial {display: flex;flex-direction: column;align-items: center;background-color: white;padding-right: 0.2em;padding-left: 0.2em;position: relative;}#sk-container-id-3 div.sk-item {position: relative;z-index: 1;}#sk-container-id-3 div.sk-parallel {display: flex;align-items: stretch;justify-content: center;background-color: white;position: relative;}#sk-container-id-3 div.sk-item::before, #sk-container-id-3 div.sk-parallel-item::before {content: \"\";position: absolute;border-left: 1px solid gray;box-sizing: border-box;top: 0;bottom: 0;left: 50%;z-index: -1;}#sk-container-id-3 div.sk-parallel-item {display: flex;flex-direction: column;z-index: 1;position: relative;background-color: white;}#sk-container-id-3 div.sk-parallel-item:first-child::after {align-self: flex-end;width: 50%;}#sk-container-id-3 div.sk-parallel-item:last-child::after {align-self: flex-start;width: 50%;}#sk-container-id-3 div.sk-parallel-item:only-child::after {width: 0;}#sk-container-id-3 div.sk-dashed-wrapped {border: 1px dashed gray;margin: 0 0.4em 0.5em 0.4em;box-sizing: border-box;padding-bottom: 0.4em;background-color: white;}#sk-container-id-3 div.sk-label label {font-family: monospace;font-weight: bold;display: inline-block;line-height: 1.2em;}#sk-container-id-3 div.sk-label-container {text-align: center;}#sk-container-id-3 div.sk-container {/* jupyter's `normalize.less` sets `[hidden] { display: none; }` but bootstrap.min.css set `[hidden] { display: none !important; }` so we also need the `!important` here to be able to override the default hidden behavior on the sphinx rendered scikit-learn.org. See: https://github.com/scikit-learn/scikit-learn/issues/21755 */display: inline-block !important;position: relative;}#sk-container-id-3 div.sk-text-repr-fallback {display: none;}</style><div id=\"sk-container-id-3\" class=\"sk-top-container\"><div class=\"sk-text-repr-fallback\"><pre>KNeighborsClassifier()</pre><b>In a Jupyter environment, please rerun this cell to show the HTML representation or trust the notebook. <br />On GitHub, the HTML representation is unable to render, please try loading this page with nbviewer.org.</b></div><div class=\"sk-container\" hidden><div class=\"sk-item\"><div class=\"sk-estimator sk-toggleable\"><input class=\"sk-toggleable__control sk-hidden--visually\" id=\"sk-estimator-id-3\" type=\"checkbox\" checked><label for=\"sk-estimator-id-3\" class=\"sk-toggleable__label sk-toggleable__label-arrow\">KNeighborsClassifier</label><div class=\"sk-toggleable__content\"><pre>KNeighborsClassifier()</pre></div></div></div></div></div>"
     },
     "execution_count": 35,
     "metadata": {},
     "output_type": "execute_result"
    }
   ],
   "source": [
    "# fit the model\n",
    "knn.fit(X_train, y_train)"
   ]
  },
  {
   "cell_type": "code",
   "execution_count": 36,
   "id": "be95fb90",
   "metadata": {
    "ExecuteTime": {
     "end_time": "2024-01-25T01:00:36.724217300Z",
     "start_time": "2024-01-25T01:00:36.486193200Z"
    }
   },
   "outputs": [
    {
     "name": "stdout",
     "output_type": "stream",
     "text": [
      "Accuracy: 0.9352580927384077\n"
     ]
    }
   ],
   "source": [
    "# predict the test set results\n",
    "y_pred = knn.predict(X_test)\n",
    "accuracy = accuracy_score(y_test, y_pred)\n",
    "print(\"Accuracy:\", accuracy)"
   ]
  },
  {
   "cell_type": "markdown",
   "id": "d7cbdf19",
   "metadata": {},
   "source": [
    "(GeeksforGeeks, 2019)"
   ]
  },
  {
   "cell_type": "markdown",
   "id": "4d662f84",
   "metadata": {},
   "source": [
    "### Gráficas de grupos encontrados"
   ]
  },
  {
   "cell_type": "code",
   "execution_count": 37,
   "id": "91db5d15",
   "metadata": {
    "ExecuteTime": {
     "end_time": "2024-01-25T01:00:45.764036900Z",
     "start_time": "2024-01-25T01:00:45.546548300Z"
    }
   },
   "outputs": [
    {
     "data": {
      "text/plain": "<Figure size 1000x700 with 1 Axes>",
      "image/png": "[encoded data removed]"
     },
     "metadata": {},
     "output_type": "display_data"
    }
   ],
   "source": [
    "plt.figure(figsize=(10, 7))\n",
    "\n",
    "# Plot predictions\n",
    "feature1 = 'length_url'\n",
    "feature2 = 'web_traffic'\n",
    "# Plot with the predictions variable\n",
    "plt.scatter(X_test[feature1][y_pred == 0], X_test[feature2][y_pred == 0], c='b', marker=\"o\", label='Legitimate')\n",
    "plt.scatter(X_test[feature1][y_pred == 1], X_test[feature2][y_pred == 1], c='r', marker=\"X\", label='Phishing')\n",
    "\n",
    "# Label the axes\n",
    "plt.xlabel(feature1)\n",
    "plt.ylabel(feature2)\n",
    "plt.legend()\n",
    "\n",
    "# Add title\n",
    "plt.title('KNN Based on {} and {}'.format(feature1, feature2))\n",
    "\n",
    "plt.show()"
   ]
  },
  {
   "cell_type": "markdown",
   "id": "68d5d443",
   "metadata": {},
   "source": [
    "### ¿Qué implementación fue mejor? ¿Por qué?\n",
    "Al evaluar las dos implementaciones del algoritmo KNN, es evidente que la versión que empleó la biblioteca scikit-learn para el entrenamiento de datos mostró un desempeño ligeramente superior en comparación con la implementación desde cero. La precisión alcanzada fue del 83.29% (0.8329) para la implementación con scikit-learn, mientras que la versión sin librerías logró una precisión del 78.35% (0.7835). Este incremento en la precisión sugiere que la implementación con las librerías se pudo haber ajustado de manera más efectiva los parámetros del modelo o aplicado técnicas adicionales de optimización durante el entrenamiento.\n",
    "\n",
    "Al profundizar en los resultados de las matrices de confusión, se manifiesta que la alternativa con scikit-learn exhibió un mayor número de verdaderos positivos (TP) [893 vs 945] y verdaderos negativos (TN) [898 vs 959]. Además, se observó una reducción significativa en los falsos positivos (FP) [229 vs 168] y falsos negativos (FN) en comparación con la implementación desde cero [266 vs 219] (Evidently AI Team, 2024)). \n",
    "\n",
    "Estos hallazgos indican que la aplicación de librerías para el entrenamiento de datos demostró una capacidad de clasificación más robusta y una menor propensión a errores en la predicción del modelo."
   ]
  },
  {
   "cell_type": "markdown",
   "id": "daf5a93c",
   "metadata": {},
   "source": [
    "## Referencias\n",
    "\n",
    "Evidently AI Team. (2024). How to interpret a confusion matrix for a machine learning model. Evidentlyai. https://www.evidentlyai.com/classification-metrics/confusion-matrix\n",
    "\n",
    "GeeksforGeeks. (2019). ML   Implementation of KNN classifier using Sklearn. https://www.geeksforgeeks.org/ml-implementation-of-knn-classifier-using-sklearn/"
   ]
  }
 ],
 "metadata": {
  "kernelspec": {
   "display_name": "Python 3",
   "language": "python",
   "name": "python3"
  },
  "language_info": {
   "codemirror_mode": {
    "name": "ipython",
    "version": 3
   },
   "file_extension": ".py",
   "mimetype": "text/x-python",
   "name": "python",
   "nbconvert_exporter": "python",
   "pygments_lexer": "ipython3",
   "version": "3.11.0"
  }
 },
 "nbformat": 4,
 "nbformat_minor": 5
}
