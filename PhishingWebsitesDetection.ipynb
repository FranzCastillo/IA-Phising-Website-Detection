{
 "cells": [
  {
   "cell_type": "markdown",
   "source": [
    "# Websites Phishing Detection using Logistic Regresión and the KNN algorithm"
   ],
   "metadata": {
    "collapsed": false
   },
   "id": "8160576f34a42698"
  },
  {
   "cell_type": "markdown",
   "source": [
    "## Task 1 | Regresión Lineal\n",
    "\n",
    "##### 1. Considera un modelo de regresión lineal con dos características, X₁ y X₂, y sus pesos correspondientes w₁ y w₂. Si el modelo predice una salida y mediante la ecuación y = 2w₁X₁ + 3w₂X₂ + 1, ¿cuál es la interpretación del coeficiente 3w₂ en el contexto del modelo?\n",
    "\n",
    "\n",
    "##### 2. Explica el concepto de multicolinealidad en el contexto de la regresión lineal. ¿Cómo afecta la multicolinealidad a la interpretación de los coeficientes de regresión individuales?\n",
    "\n"
   ],
   "metadata": {
    "collapsed": false
   },
   "id": "94be590350a4efe7"
  },
  {
   "cell_type": "markdown",
   "source": [
    "# Task 2\n",
    "## Análisis Exploratorio"
   ],
   "metadata": {
    "collapsed": false
   },
   "id": "88e0777473ed4eb4"
  },
  {
   "cell_type": "code",
   "outputs": [],
   "source": [
    "import matplotlib\n",
    "import pandas as pd\n",
    "import numpy as np\n",
    "\n",
    "import matplotlib.pyplot as plt\n",
    "import seaborn as sns\n",
    "plt.style.use('ggplot')"
   ],
   "metadata": {
    "collapsed": false,
    "ExecuteTime": {
     "end_time": "2024-01-18T17:56:13.700583700Z",
     "start_time": "2024-01-18T17:56:13.424485300Z"
    }
   },
   "id": "688fec731ef9616a",
   "execution_count": 3
  },
  {
   "cell_type": "code",
   "outputs": [
    {
     "data": {
      "text/plain": "                                                 url  length_url  \\\n0              http://www.crestonwood.com/router.php          37   \n1  http://shadetreetechnology.com/V4/validation/a...          77   \n2  https://support-appleld.com.secureupdate.duila...         126   \n3                                 http://rgipt.ac.in          18   \n4  http://www.iracing.com/tracks/gateway-motorspo...          55   \n\n   length_hostname  ip  nb_dots  nb_hyphens  nb_at  nb_qm  nb_and  nb_or  ...  \\\n0               19   0        3           0      0      0       0      0  ...   \n1               23   1        1           0      0      0       0      0  ...   \n2               50   1        4           1      0      1       2      0  ...   \n3               11   0        2           0      0      0       0      0  ...   \n4               15   0        2           2      0      0       0      0  ...   \n\n   domain_in_title  domain_with_copyright  whois_registered_domain  \\\n0                0                      1                        0   \n1                1                      0                        0   \n2                1                      0                        0   \n3                1                      0                        0   \n4                0                      1                        0   \n\n   domain_registration_length  domain_age  web_traffic  dns_record  \\\n0                          45          -1            0           1   \n1                          77        5767            0           0   \n2                          14        4004      5828815           0   \n3                          62          -1       107721           0   \n4                         224        8175         8725           0   \n\n   google_index  page_rank      status  \n0             1          4  legitimate  \n1             1          2    phishing  \n2             1          0    phishing  \n3             0          3  legitimate  \n4             0          6  legitimate  \n\n[5 rows x 89 columns]",
      "text/html": "<div>\n<style scoped>\n    .dataframe tbody tr th:only-of-type {\n        vertical-align: middle;\n    }\n\n    .dataframe tbody tr th {\n        vertical-align: top;\n    }\n\n    .dataframe thead th {\n        text-align: right;\n    }\n</style>\n<table border=\"1\" class=\"dataframe\">\n  <thead>\n    <tr style=\"text-align: right;\">\n      <th></th>\n      <th>url</th>\n      <th>length_url</th>\n      <th>length_hostname</th>\n      <th>ip</th>\n      <th>nb_dots</th>\n      <th>nb_hyphens</th>\n      <th>nb_at</th>\n      <th>nb_qm</th>\n      <th>nb_and</th>\n      <th>nb_or</th>\n      <th>...</th>\n      <th>domain_in_title</th>\n      <th>domain_with_copyright</th>\n      <th>whois_registered_domain</th>\n      <th>domain_registration_length</th>\n      <th>domain_age</th>\n      <th>web_traffic</th>\n      <th>dns_record</th>\n      <th>google_index</th>\n      <th>page_rank</th>\n      <th>status</th>\n    </tr>\n  </thead>\n  <tbody>\n    <tr>\n      <th>0</th>\n      <td>http://www.crestonwood.com/router.php</td>\n      <td>37</td>\n      <td>19</td>\n      <td>0</td>\n      <td>3</td>\n      <td>0</td>\n      <td>0</td>\n      <td>0</td>\n      <td>0</td>\n      <td>0</td>\n      <td>...</td>\n      <td>0</td>\n      <td>1</td>\n      <td>0</td>\n      <td>45</td>\n      <td>-1</td>\n      <td>0</td>\n      <td>1</td>\n      <td>1</td>\n      <td>4</td>\n      <td>legitimate</td>\n    </tr>\n    <tr>\n      <th>1</th>\n      <td>http://shadetreetechnology.com/V4/validation/a...</td>\n      <td>77</td>\n      <td>23</td>\n      <td>1</td>\n      <td>1</td>\n      <td>0</td>\n      <td>0</td>\n      <td>0</td>\n      <td>0</td>\n      <td>0</td>\n      <td>...</td>\n      <td>1</td>\n      <td>0</td>\n      <td>0</td>\n      <td>77</td>\n      <td>5767</td>\n      <td>0</td>\n      <td>0</td>\n      <td>1</td>\n      <td>2</td>\n      <td>phishing</td>\n    </tr>\n    <tr>\n      <th>2</th>\n      <td>https://support-appleld.com.secureupdate.duila...</td>\n      <td>126</td>\n      <td>50</td>\n      <td>1</td>\n      <td>4</td>\n      <td>1</td>\n      <td>0</td>\n      <td>1</td>\n      <td>2</td>\n      <td>0</td>\n      <td>...</td>\n      <td>1</td>\n      <td>0</td>\n      <td>0</td>\n      <td>14</td>\n      <td>4004</td>\n      <td>5828815</td>\n      <td>0</td>\n      <td>1</td>\n      <td>0</td>\n      <td>phishing</td>\n    </tr>\n    <tr>\n      <th>3</th>\n      <td>http://rgipt.ac.in</td>\n      <td>18</td>\n      <td>11</td>\n      <td>0</td>\n      <td>2</td>\n      <td>0</td>\n      <td>0</td>\n      <td>0</td>\n      <td>0</td>\n      <td>0</td>\n      <td>...</td>\n      <td>1</td>\n      <td>0</td>\n      <td>0</td>\n      <td>62</td>\n      <td>-1</td>\n      <td>107721</td>\n      <td>0</td>\n      <td>0</td>\n      <td>3</td>\n      <td>legitimate</td>\n    </tr>\n    <tr>\n      <th>4</th>\n      <td>http://www.iracing.com/tracks/gateway-motorspo...</td>\n      <td>55</td>\n      <td>15</td>\n      <td>0</td>\n      <td>2</td>\n      <td>2</td>\n      <td>0</td>\n      <td>0</td>\n      <td>0</td>\n      <td>0</td>\n      <td>...</td>\n      <td>0</td>\n      <td>1</td>\n      <td>0</td>\n      <td>224</td>\n      <td>8175</td>\n      <td>8725</td>\n      <td>0</td>\n      <td>0</td>\n      <td>6</td>\n      <td>legitimate</td>\n    </tr>\n  </tbody>\n</table>\n<p>5 rows × 89 columns</p>\n</div>"
     },
     "execution_count": 4,
     "metadata": {},
     "output_type": "execute_result"
    }
   ],
   "source": [
    "df = pd.read_csv('data/dataset_phishing.csv')\n",
    "df.head()"
   ],
   "metadata": {
    "collapsed": false,
    "ExecuteTime": {
     "end_time": "2024-01-18T17:56:14.007912600Z",
     "start_time": "2024-01-18T17:56:13.703840600Z"
    }
   },
   "id": "eaa6cd4258b5bf28",
   "execution_count": 4
  },
  {
   "cell_type": "code",
   "outputs": [],
   "source": [
    "features = df[[\n",
    "    # 'url', \n",
    "    'length_url', \n",
    "    'length_hostname', \n",
    "    'ip', \n",
    "    # 'nb_www', \n",
    "    # 'nb_com',\n",
    "    # 'nb_dslash', \n",
    "    'http_in_path', \n",
    "    'https_token', \n",
    "    # 'ratio_digits_url',\n",
    "    # 'ratio_digits_host', \n",
    "    'punycode', \n",
    "    'port', \n",
    "    'tld_in_path',\n",
    "    'tld_in_subdomain', \n",
    "    'abnormal_subdomain',\n",
    "    # 'nb_subdomains',\n",
    "    'prefix_suffix', \n",
    "    'random_domain', \n",
    "    'shortening_service',\n",
    "    'path_extension', \n",
    "    # 'nb_redirection', 'nb_external_redirection',\n",
    "    'phish_hints', \n",
    "    'domain_in_brand',\n",
    "    'brand_in_subdomain', \n",
    "    'brand_in_path', \n",
    "    'suspecious_tld',\n",
    "    'statistical_report', \n",
    "    # 'nb_hyperlinks', \n",
    "    # 'ratio_intHyperlinks',\n",
    "    # 'ratio_extHyperlinks', 'ratio_nullHyperlinks', 'nb_extCSS',\n",
    "    # 'ratio_intRedirection', 'ratio_extRedirection', 'ratio_intErrors',\n",
    "    # 'ratio_extErrors', \n",
    "    'login_form', \n",
    "    'external_favicon', \n",
    "    # 'links_in_tags',\n",
    "    # 'submit_email',  0's across the board\n",
    "    # 'ratio_intMedia', 'ratio_extMedia', \n",
    "    # 'sfh', 0's across the board\n",
    "    'iframe',\n",
    "    'popup_window', \n",
    "    'onmouseover', \n",
    "    'right_clic',\n",
    "    'empty_title', \n",
    "    'domain_in_title', \n",
    "    'domain_with_copyright',\n",
    "    'whois_registered_domain', \n",
    "    'domain_registration_length', 'domain_age',\n",
    "    'web_traffic', 'dns_record', 'google_index', 'page_rank', 'status']].copy()"
   ],
   "metadata": {
    "collapsed": false,
    "ExecuteTime": {
     "end_time": "2024-01-18T17:56:14.010197600Z",
     "start_time": "2024-01-18T17:56:13.924154500Z"
    }
   },
   "id": "db80fd27d706bae3",
   "execution_count": 5
  },
  {
   "cell_type": "markdown",
   "source": [
    "### Encoding\n",
    "\n",
    "Solamente es necesario en la parte del objetivo, ya que es la única variable categórica."
   ],
   "metadata": {
    "collapsed": false
   },
   "id": "8d8c92b4832715de"
  },
  {
   "cell_type": "code",
   "outputs": [],
   "source": [
    "features['status'] = features['status'].map({'phishing': 1, 'legitimate': 0})"
   ],
   "metadata": {
    "collapsed": false,
    "ExecuteTime": {
     "end_time": "2024-01-18T17:56:14.087494700Z",
     "start_time": "2024-01-18T17:56:13.942687200Z"
    }
   },
   "id": "a0f84763ae3ada53",
   "execution_count": 6
  },
  {
   "cell_type": "code",
   "outputs": [
    {
     "data": {
      "text/plain": "         length_url  length_hostname            ip  http_in_path  \\\ncount  11430.000000     11430.000000  11430.000000  11430.000000   \nmean      61.126684        21.090289      0.150569      0.016710   \nstd       55.297318        10.777171      0.357644      0.169358   \nmin       12.000000         4.000000      0.000000      0.000000   \n25%       33.000000        15.000000      0.000000      0.000000   \n50%       47.000000        19.000000      0.000000      0.000000   \n75%       71.000000        24.000000      0.000000      0.000000   \nmax     1641.000000       214.000000      1.000000      4.000000   \n\n        https_token      punycode          port   tld_in_path  \\\ncount  11430.000000  11430.000000  11430.000000  11430.000000   \nmean       0.610936      0.000350      0.002362      0.065617   \nstd        0.487559      0.018705      0.048547      0.247622   \nmin        0.000000      0.000000      0.000000      0.000000   \n25%        0.000000      0.000000      0.000000      0.000000   \n50%        1.000000      0.000000      0.000000      0.000000   \n75%        1.000000      0.000000      0.000000      0.000000   \nmax        1.000000      1.000000      1.000000      1.000000   \n\n       tld_in_subdomain  abnormal_subdomain  ...  domain_in_title  \\\ncount      11430.000000        11430.000000  ...     11430.000000   \nmean           0.050131            0.021610  ...         0.775853   \nstd            0.218225            0.145412  ...         0.417038   \nmin            0.000000            0.000000  ...         0.000000   \n25%            0.000000            0.000000  ...         1.000000   \n50%            0.000000            0.000000  ...         1.000000   \n75%            0.000000            0.000000  ...         1.000000   \nmax            1.000000            1.000000  ...         1.000000   \n\n       domain_with_copyright  whois_registered_domain  \\\ncount           11430.000000             11430.000000   \nmean                0.439545                 0.072878   \nstd                 0.496353                 0.259948   \nmin                 0.000000                 0.000000   \n25%                 0.000000                 0.000000   \n50%                 0.000000                 0.000000   \n75%                 1.000000                 0.000000   \nmax                 1.000000                 1.000000   \n\n       domain_registration_length    domain_age   web_traffic    dns_record  \\\ncount                11430.000000  11430.000000  1.143000e+04  11430.000000   \nmean                   492.532196   4062.543745  8.567566e+05      0.020122   \nstd                    814.769415   3107.784600  1.995606e+06      0.140425   \nmin                     -1.000000    -12.000000  0.000000e+00      0.000000   \n25%                     84.000000    972.250000  0.000000e+00      0.000000   \n50%                    242.000000   3993.000000  1.651000e+03      0.000000   \n75%                    449.000000   7026.750000  3.738455e+05      0.000000   \nmax                  29829.000000  12874.000000  1.076799e+07      1.000000   \n\n       google_index     page_rank        status  \ncount  11430.000000  11430.000000  11430.000000  \nmean       0.533946      3.185739      0.500000  \nstd        0.498868      2.536955      0.500022  \nmin        0.000000      0.000000      0.000000  \n25%        0.000000      1.000000      0.000000  \n50%        1.000000      3.000000      0.500000  \n75%        1.000000      5.000000      1.000000  \nmax        1.000000     10.000000      1.000000  \n\n[8 rows x 37 columns]",
      "text/html": "<div>\n<style scoped>\n    .dataframe tbody tr th:only-of-type {\n        vertical-align: middle;\n    }\n\n    .dataframe tbody tr th {\n        vertical-align: top;\n    }\n\n    .dataframe thead th {\n        text-align: right;\n    }\n</style>\n<table border=\"1\" class=\"dataframe\">\n  <thead>\n    <tr style=\"text-align: right;\">\n      <th></th>\n      <th>length_url</th>\n      <th>length_hostname</th>\n      <th>ip</th>\n      <th>http_in_path</th>\n      <th>https_token</th>\n      <th>punycode</th>\n      <th>port</th>\n      <th>tld_in_path</th>\n      <th>tld_in_subdomain</th>\n      <th>abnormal_subdomain</th>\n      <th>...</th>\n      <th>domain_in_title</th>\n      <th>domain_with_copyright</th>\n      <th>whois_registered_domain</th>\n      <th>domain_registration_length</th>\n      <th>domain_age</th>\n      <th>web_traffic</th>\n      <th>dns_record</th>\n      <th>google_index</th>\n      <th>page_rank</th>\n      <th>status</th>\n    </tr>\n  </thead>\n  <tbody>\n    <tr>\n      <th>count</th>\n      <td>11430.000000</td>\n      <td>11430.000000</td>\n      <td>11430.000000</td>\n      <td>11430.000000</td>\n      <td>11430.000000</td>\n      <td>11430.000000</td>\n      <td>11430.000000</td>\n      <td>11430.000000</td>\n      <td>11430.000000</td>\n      <td>11430.000000</td>\n      <td>...</td>\n      <td>11430.000000</td>\n      <td>11430.000000</td>\n      <td>11430.000000</td>\n      <td>11430.000000</td>\n      <td>11430.000000</td>\n      <td>1.143000e+04</td>\n      <td>11430.000000</td>\n      <td>11430.000000</td>\n      <td>11430.000000</td>\n      <td>11430.000000</td>\n    </tr>\n    <tr>\n      <th>mean</th>\n      <td>61.126684</td>\n      <td>21.090289</td>\n      <td>0.150569</td>\n      <td>0.016710</td>\n      <td>0.610936</td>\n      <td>0.000350</td>\n      <td>0.002362</td>\n      <td>0.065617</td>\n      <td>0.050131</td>\n      <td>0.021610</td>\n      <td>...</td>\n      <td>0.775853</td>\n      <td>0.439545</td>\n      <td>0.072878</td>\n      <td>492.532196</td>\n      <td>4062.543745</td>\n      <td>8.567566e+05</td>\n      <td>0.020122</td>\n      <td>0.533946</td>\n      <td>3.185739</td>\n      <td>0.500000</td>\n    </tr>\n    <tr>\n      <th>std</th>\n      <td>55.297318</td>\n      <td>10.777171</td>\n      <td>0.357644</td>\n      <td>0.169358</td>\n      <td>0.487559</td>\n      <td>0.018705</td>\n      <td>0.048547</td>\n      <td>0.247622</td>\n      <td>0.218225</td>\n      <td>0.145412</td>\n      <td>...</td>\n      <td>0.417038</td>\n      <td>0.496353</td>\n      <td>0.259948</td>\n      <td>814.769415</td>\n      <td>3107.784600</td>\n      <td>1.995606e+06</td>\n      <td>0.140425</td>\n      <td>0.498868</td>\n      <td>2.536955</td>\n      <td>0.500022</td>\n    </tr>\n    <tr>\n      <th>min</th>\n      <td>12.000000</td>\n      <td>4.000000</td>\n      <td>0.000000</td>\n      <td>0.000000</td>\n      <td>0.000000</td>\n      <td>0.000000</td>\n      <td>0.000000</td>\n      <td>0.000000</td>\n      <td>0.000000</td>\n      <td>0.000000</td>\n      <td>...</td>\n      <td>0.000000</td>\n      <td>0.000000</td>\n      <td>0.000000</td>\n      <td>-1.000000</td>\n      <td>-12.000000</td>\n      <td>0.000000e+00</td>\n      <td>0.000000</td>\n      <td>0.000000</td>\n      <td>0.000000</td>\n      <td>0.000000</td>\n    </tr>\n    <tr>\n      <th>25%</th>\n      <td>33.000000</td>\n      <td>15.000000</td>\n      <td>0.000000</td>\n      <td>0.000000</td>\n      <td>0.000000</td>\n      <td>0.000000</td>\n      <td>0.000000</td>\n      <td>0.000000</td>\n      <td>0.000000</td>\n      <td>0.000000</td>\n      <td>...</td>\n      <td>1.000000</td>\n      <td>0.000000</td>\n      <td>0.000000</td>\n      <td>84.000000</td>\n      <td>972.250000</td>\n      <td>0.000000e+00</td>\n      <td>0.000000</td>\n      <td>0.000000</td>\n      <td>1.000000</td>\n      <td>0.000000</td>\n    </tr>\n    <tr>\n      <th>50%</th>\n      <td>47.000000</td>\n      <td>19.000000</td>\n      <td>0.000000</td>\n      <td>0.000000</td>\n      <td>1.000000</td>\n      <td>0.000000</td>\n      <td>0.000000</td>\n      <td>0.000000</td>\n      <td>0.000000</td>\n      <td>0.000000</td>\n      <td>...</td>\n      <td>1.000000</td>\n      <td>0.000000</td>\n      <td>0.000000</td>\n      <td>242.000000</td>\n      <td>3993.000000</td>\n      <td>1.651000e+03</td>\n      <td>0.000000</td>\n      <td>1.000000</td>\n      <td>3.000000</td>\n      <td>0.500000</td>\n    </tr>\n    <tr>\n      <th>75%</th>\n      <td>71.000000</td>\n      <td>24.000000</td>\n      <td>0.000000</td>\n      <td>0.000000</td>\n      <td>1.000000</td>\n      <td>0.000000</td>\n      <td>0.000000</td>\n      <td>0.000000</td>\n      <td>0.000000</td>\n      <td>0.000000</td>\n      <td>...</td>\n      <td>1.000000</td>\n      <td>1.000000</td>\n      <td>0.000000</td>\n      <td>449.000000</td>\n      <td>7026.750000</td>\n      <td>3.738455e+05</td>\n      <td>0.000000</td>\n      <td>1.000000</td>\n      <td>5.000000</td>\n      <td>1.000000</td>\n    </tr>\n    <tr>\n      <th>max</th>\n      <td>1641.000000</td>\n      <td>214.000000</td>\n      <td>1.000000</td>\n      <td>4.000000</td>\n      <td>1.000000</td>\n      <td>1.000000</td>\n      <td>1.000000</td>\n      <td>1.000000</td>\n      <td>1.000000</td>\n      <td>1.000000</td>\n      <td>...</td>\n      <td>1.000000</td>\n      <td>1.000000</td>\n      <td>1.000000</td>\n      <td>29829.000000</td>\n      <td>12874.000000</td>\n      <td>1.076799e+07</td>\n      <td>1.000000</td>\n      <td>1.000000</td>\n      <td>10.000000</td>\n      <td>1.000000</td>\n    </tr>\n  </tbody>\n</table>\n<p>8 rows × 37 columns</p>\n</div>"
     },
     "execution_count": 7,
     "metadata": {},
     "output_type": "execute_result"
    }
   ],
   "source": [
    "features.describe()"
   ],
   "metadata": {
    "collapsed": false,
    "ExecuteTime": {
     "end_time": "2024-01-18T17:56:14.309965800Z",
     "start_time": "2024-01-18T17:56:13.950932500Z"
    }
   },
   "id": "6eb745a550817d0d",
   "execution_count": 7
  },
  {
   "cell_type": "code",
   "outputs": [
    {
     "name": "stdout",
     "output_type": "stream",
     "text": [
      "<class 'pandas.core.frame.DataFrame'>\n",
      "RangeIndex: 11430 entries, 0 to 11429\n",
      "Data columns (total 37 columns):\n",
      " #   Column                      Non-Null Count  Dtype\n",
      "---  ------                      --------------  -----\n",
      " 0   length_url                  11430 non-null  int64\n",
      " 1   length_hostname             11430 non-null  int64\n",
      " 2   ip                          11430 non-null  int64\n",
      " 3   http_in_path                11430 non-null  int64\n",
      " 4   https_token                 11430 non-null  int64\n",
      " 5   punycode                    11430 non-null  int64\n",
      " 6   port                        11430 non-null  int64\n",
      " 7   tld_in_path                 11430 non-null  int64\n",
      " 8   tld_in_subdomain            11430 non-null  int64\n",
      " 9   abnormal_subdomain          11430 non-null  int64\n",
      " 10  prefix_suffix               11430 non-null  int64\n",
      " 11  random_domain               11430 non-null  int64\n",
      " 12  shortening_service          11430 non-null  int64\n",
      " 13  path_extension              11430 non-null  int64\n",
      " 14  phish_hints                 11430 non-null  int64\n",
      " 15  domain_in_brand             11430 non-null  int64\n",
      " 16  brand_in_subdomain          11430 non-null  int64\n",
      " 17  brand_in_path               11430 non-null  int64\n",
      " 18  suspecious_tld              11430 non-null  int64\n",
      " 19  statistical_report          11430 non-null  int64\n",
      " 20  login_form                  11430 non-null  int64\n",
      " 21  external_favicon            11430 non-null  int64\n",
      " 22  iframe                      11430 non-null  int64\n",
      " 23  popup_window                11430 non-null  int64\n",
      " 24  onmouseover                 11430 non-null  int64\n",
      " 25  right_clic                  11430 non-null  int64\n",
      " 26  empty_title                 11430 non-null  int64\n",
      " 27  domain_in_title             11430 non-null  int64\n",
      " 28  domain_with_copyright       11430 non-null  int64\n",
      " 29  whois_registered_domain     11430 non-null  int64\n",
      " 30  domain_registration_length  11430 non-null  int64\n",
      " 31  domain_age                  11430 non-null  int64\n",
      " 32  web_traffic                 11430 non-null  int64\n",
      " 33  dns_record                  11430 non-null  int64\n",
      " 34  google_index                11430 non-null  int64\n",
      " 35  page_rank                   11430 non-null  int64\n",
      " 36  status                      11430 non-null  int64\n",
      "dtypes: int64(37)\n",
      "memory usage: 3.2 MB\n"
     ]
    }
   ],
   "source": [
    "features.info()"
   ],
   "metadata": {
    "collapsed": false,
    "ExecuteTime": {
     "end_time": "2024-01-18T17:56:14.397241700Z",
     "start_time": "2024-01-18T17:56:14.120171400Z"
    }
   },
   "id": "75d1d8940c5f7e57",
   "execution_count": 8
  },
  {
   "cell_type": "markdown",
   "source": [
    "### Balanceo de clases\n",
    "\n",
    "No necesita de ningún balanceo de clases."
   ],
   "metadata": {
    "collapsed": false
   },
   "id": "c128dbbaf43dd76b"
  },
  {
   "cell_type": "code",
   "outputs": [
    {
     "data": {
      "text/plain": "status\n0    5715\n1    5715\nName: count, dtype: int64"
     },
     "execution_count": 9,
     "metadata": {},
     "output_type": "execute_result"
    }
   ],
   "source": [
    "features['status'].value_counts()"
   ],
   "metadata": {
    "collapsed": false,
    "ExecuteTime": {
     "end_time": "2024-01-18T17:56:14.401913900Z",
     "start_time": "2024-01-18T17:56:14.148348Z"
    }
   },
   "id": "e7cedd05438654aa",
   "execution_count": 9
  },
  {
   "cell_type": "markdown",
   "source": [
    "### Scaling\n",
    "\n",
    "Las magnitudes de los datos son muy diferentes, por lo que es necesario escalarlos.\n",
    "Serán los siguientes features: length_url, length_hostname, domain_registration_length, domain_age, web_traffic, page_rank"
   ],
   "metadata": {
    "collapsed": false
   },
   "id": "bd95d90da3c0c2f"
  },
  {
   "cell_type": "code",
   "outputs": [],
   "source": [
    "from sklearn.preprocessing import StandardScaler\n",
    "scaler = StandardScaler()"
   ],
   "metadata": {
    "collapsed": false,
    "ExecuteTime": {
     "end_time": "2024-01-18T17:56:14.454043500Z",
     "start_time": "2024-01-18T17:56:14.165888200Z"
    }
   },
   "id": "939db11121d8c8c7",
   "execution_count": 10
  },
  {
   "cell_type": "code",
   "outputs": [],
   "source": [
    "# List of features to scale\n",
    "features_to_scale = ['length_url', 'length_hostname', 'domain_registration_length', 'domain_age', 'web_traffic', 'page_rank']\n",
    "\n",
    "# Apply the scaler to the features in the list\n",
    "features[features_to_scale] = scaler.fit_transform(features[features_to_scale])"
   ],
   "metadata": {
    "collapsed": false,
    "ExecuteTime": {
     "end_time": "2024-01-18T17:56:14.946603800Z",
     "start_time": "2024-01-18T17:56:14.366832500Z"
    }
   },
   "id": "416c469e001fbe70",
   "execution_count": 11
  },
  {
   "cell_type": "code",
   "outputs": [
    {
     "data": {
      "text/plain": "length_url                   -5.221836e-17\nlength_hostname              -1.367624e-16\ndomain_registration_length    2.237930e-17\ndomain_age                   -1.243294e-18\nweb_traffic                  -1.429789e-17\npage_rank                    -8.703061e-18\ndtype: float64"
     },
     "execution_count": 12,
     "metadata": {},
     "output_type": "execute_result"
    }
   ],
   "source": [
    "features[features_to_scale].mean()"
   ],
   "metadata": {
    "collapsed": false,
    "ExecuteTime": {
     "end_time": "2024-01-18T17:56:15.104275400Z",
     "start_time": "2024-01-18T17:56:14.910883800Z"
    }
   },
   "id": "7415b1147005a77a",
   "execution_count": 12
  },
  {
   "cell_type": "markdown",
   "source": [
    "### Data Splitting"
   ],
   "metadata": {
    "collapsed": false
   },
   "id": "4f0ffe2fbaa0d7bf"
  },
  {
   "cell_type": "code",
   "outputs": [],
   "source": [
    "from sklearn.model_selection import train_test_split"
   ],
   "metadata": {
    "collapsed": false,
    "ExecuteTime": {
     "end_time": "2024-01-18T17:56:15.266335200Z",
     "start_time": "2024-01-18T17:56:15.052280Z"
    }
   },
   "id": "2ac32c9fbecf3ce5",
   "execution_count": 13
  },
  {
   "cell_type": "code",
   "outputs": [],
   "source": [
    "X = features.drop('status', axis=1)\n",
    "y = features['status']"
   ],
   "metadata": {
    "collapsed": false,
    "ExecuteTime": {
     "end_time": "2024-01-18T17:56:15.308821100Z",
     "start_time": "2024-01-18T17:56:15.242639900Z"
    }
   },
   "id": "11d635e3b88b5b9d",
   "execution_count": 14
  },
  {
   "cell_type": "code",
   "outputs": [],
   "source": [
    "X_train, X_test, y_train, y_test = train_test_split(X, y, test_size=0.2, random_state=21562)"
   ],
   "metadata": {
    "collapsed": false,
    "ExecuteTime": {
     "end_time": "2024-01-18T17:56:15.433960800Z",
     "start_time": "2024-01-18T17:56:15.313656600Z"
    }
   },
   "id": "f7e7d6b54cd0283e",
   "execution_count": 15
  },
  {
   "cell_type": "markdown",
   "source": [
    "## Task 2.1 | Regresión Logística"
   ],
   "metadata": {
    "collapsed": false
   },
   "id": "c34c5f8bf129bcf6"
  },
  {
   "cell_type": "markdown",
   "source": [
    "### Entrenamiento sin librerías"
   ],
   "metadata": {
    "collapsed": false
   },
   "id": "cbfa2b108026c8b1"
  },
  {
   "cell_type": "code",
   "outputs": [],
   "source": [
    "class LogisticRegression:\n",
    "    def __init__(self, learning_rate=0.01, iterations=1000):\n",
    "        self.learning_rate = learning_rate\n",
    "        self.iterations = iterations\n",
    "        \n",
    "        self.X = None\n",
    "        self.y = None\n",
    "        self.m = None\n",
    "        self.n = None\n",
    "        self.weights = None\n",
    "        self.bias = None\n",
    "        \n",
    "    def fit(self, X, y):\n",
    "        self.X = X\n",
    "        self.y = y\n",
    "        \n",
    "        # M = número de ejemplos de entrenamiento\n",
    "        # N = número de características\n",
    "        self.m, self.n = X.shape\n",
    "        \n",
    "        # Inicializar los pesos y el bias\n",
    "        self.weights = np.zeros(self.n)\n",
    "        self.bias = 0\n",
    "        \n",
    "        # Gradiente descendiente\n",
    "        for i in range(self.iterations):\n",
    "            self.update_weights()\n",
    "    \n",
    "    def update_weights(self):\n",
    "        # Modelo Lineal: z = w1x1 + w2x2 + ... + wnxn + b\n",
    "        z = np.dot(self.X, self.weights) + self.bias\n",
    "        \n",
    "        # Sigmoide\n",
    "        sigmoid = 1 / (1 + np.exp(-z))\n",
    "        \n",
    "        # Derivadas\n",
    "        dw = (1 / self.m) * np.dot(self.X.T, (sigmoid - self.y))\n",
    "        db = (1 / self.m) * np.sum(sigmoid - self.y)\n",
    "        \n",
    "        # Actualizar los pesos y el bias\n",
    "        self.weights -= self.learning_rate * dw\n",
    "        self.bias -= self.learning_rate * db\n",
    "    \n",
    "    def predict(self, X):\n",
    "        temp_z = np.dot(X, self.weights) + self.bias\n",
    "        temp_sigmoid = 1 / (1 + np.exp(-temp_z))\n",
    "        \n",
    "        decision_boundary = 0.5\n",
    "        y_predicted = np.where(temp_sigmoid >= decision_boundary, 1, 0)\n",
    "    \n",
    "        \n",
    "        return y_predicted"
   ],
   "metadata": {
    "collapsed": false,
    "ExecuteTime": {
     "end_time": "2024-01-18T17:56:15.613381700Z",
     "start_time": "2024-01-18T17:56:15.408515Z"
    }
   },
   "id": "f34936b534474bc7",
   "execution_count": 16
  },
  {
   "cell_type": "code",
   "outputs": [],
   "source": [
    "classifier = LogisticRegression()"
   ],
   "metadata": {
    "collapsed": false,
    "ExecuteTime": {
     "end_time": "2024-01-18T17:56:15.743953Z",
     "start_time": "2024-01-18T17:56:15.578309900Z"
    }
   },
   "id": "e163d9e062c2371",
   "execution_count": 17
  },
  {
   "cell_type": "code",
   "outputs": [],
   "source": [
    "classifier.fit(X_train, y_train)"
   ],
   "metadata": {
    "collapsed": false,
    "ExecuteTime": {
     "end_time": "2024-01-18T17:56:25.858300700Z",
     "start_time": "2024-01-18T17:56:15.679922600Z"
    }
   },
   "id": "cca16a5b2cf7b17",
   "execution_count": 18
  },
  {
   "cell_type": "code",
   "outputs": [],
   "source": [
    "X_train_predictions = classifier.predict(X_train)"
   ],
   "metadata": {
    "collapsed": false,
    "ExecuteTime": {
     "end_time": "2024-01-18T17:56:25.878521100Z",
     "start_time": "2024-01-18T17:56:25.859342500Z"
    }
   },
   "id": "e12d17770cda868f",
   "execution_count": 19
  },
  {
   "cell_type": "markdown",
   "source": [
    "### Entrenamiento con librerías"
   ],
   "metadata": {
    "collapsed": false
   },
   "id": "ff6b585b66d0289"
  },
  {
   "cell_type": "code",
   "outputs": [],
   "source": [
    "from sklearn.linear_model import LogisticRegression"
   ],
   "metadata": {
    "collapsed": false,
    "ExecuteTime": {
     "end_time": "2024-01-18T18:32:40.731605600Z",
     "start_time": "2024-01-18T18:32:40.006847400Z"
    }
   },
   "id": "acb9bb8e39b4812b",
   "execution_count": 29
  },
  {
   "cell_type": "code",
   "outputs": [],
   "source": [
    "sk_classifier = LogisticRegression()"
   ],
   "metadata": {
    "collapsed": false,
    "ExecuteTime": {
     "end_time": "2024-01-18T18:34:34.946889500Z",
     "start_time": "2024-01-18T18:34:34.911195800Z"
    }
   },
   "id": "e3af02f8eced7670",
   "execution_count": 30
  },
  {
   "cell_type": "code",
   "outputs": [
    {
     "data": {
      "text/plain": "LogisticRegression()",
      "text/html": "<style>#sk-container-id-1 {color: black;}#sk-container-id-1 pre{padding: 0;}#sk-container-id-1 div.sk-toggleable {background-color: white;}#sk-container-id-1 label.sk-toggleable__label {cursor: pointer;display: block;width: 100%;margin-bottom: 0;padding: 0.3em;box-sizing: border-box;text-align: center;}#sk-container-id-1 label.sk-toggleable__label-arrow:before {content: \"▸\";float: left;margin-right: 0.25em;color: #696969;}#sk-container-id-1 label.sk-toggleable__label-arrow:hover:before {color: black;}#sk-container-id-1 div.sk-estimator:hover label.sk-toggleable__label-arrow:before {color: black;}#sk-container-id-1 div.sk-toggleable__content {max-height: 0;max-width: 0;overflow: hidden;text-align: left;background-color: #f0f8ff;}#sk-container-id-1 div.sk-toggleable__content pre {margin: 0.2em;color: black;border-radius: 0.25em;background-color: #f0f8ff;}#sk-container-id-1 input.sk-toggleable__control:checked~div.sk-toggleable__content {max-height: 200px;max-width: 100%;overflow: auto;}#sk-container-id-1 input.sk-toggleable__control:checked~label.sk-toggleable__label-arrow:before {content: \"▾\";}#sk-container-id-1 div.sk-estimator input.sk-toggleable__control:checked~label.sk-toggleable__label {background-color: #d4ebff;}#sk-container-id-1 div.sk-label input.sk-toggleable__control:checked~label.sk-toggleable__label {background-color: #d4ebff;}#sk-container-id-1 input.sk-hidden--visually {border: 0;clip: rect(1px 1px 1px 1px);clip: rect(1px, 1px, 1px, 1px);height: 1px;margin: -1px;overflow: hidden;padding: 0;position: absolute;width: 1px;}#sk-container-id-1 div.sk-estimator {font-family: monospace;background-color: #f0f8ff;border: 1px dotted black;border-radius: 0.25em;box-sizing: border-box;margin-bottom: 0.5em;}#sk-container-id-1 div.sk-estimator:hover {background-color: #d4ebff;}#sk-container-id-1 div.sk-parallel-item::after {content: \"\";width: 100%;border-bottom: 1px solid gray;flex-grow: 1;}#sk-container-id-1 div.sk-label:hover label.sk-toggleable__label {background-color: #d4ebff;}#sk-container-id-1 div.sk-serial::before {content: \"\";position: absolute;border-left: 1px solid gray;box-sizing: border-box;top: 0;bottom: 0;left: 50%;z-index: 0;}#sk-container-id-1 div.sk-serial {display: flex;flex-direction: column;align-items: center;background-color: white;padding-right: 0.2em;padding-left: 0.2em;position: relative;}#sk-container-id-1 div.sk-item {position: relative;z-index: 1;}#sk-container-id-1 div.sk-parallel {display: flex;align-items: stretch;justify-content: center;background-color: white;position: relative;}#sk-container-id-1 div.sk-item::before, #sk-container-id-1 div.sk-parallel-item::before {content: \"\";position: absolute;border-left: 1px solid gray;box-sizing: border-box;top: 0;bottom: 0;left: 50%;z-index: -1;}#sk-container-id-1 div.sk-parallel-item {display: flex;flex-direction: column;z-index: 1;position: relative;background-color: white;}#sk-container-id-1 div.sk-parallel-item:first-child::after {align-self: flex-end;width: 50%;}#sk-container-id-1 div.sk-parallel-item:last-child::after {align-self: flex-start;width: 50%;}#sk-container-id-1 div.sk-parallel-item:only-child::after {width: 0;}#sk-container-id-1 div.sk-dashed-wrapped {border: 1px dashed gray;margin: 0 0.4em 0.5em 0.4em;box-sizing: border-box;padding-bottom: 0.4em;background-color: white;}#sk-container-id-1 div.sk-label label {font-family: monospace;font-weight: bold;display: inline-block;line-height: 1.2em;}#sk-container-id-1 div.sk-label-container {text-align: center;}#sk-container-id-1 div.sk-container {/* jupyter's `normalize.less` sets `[hidden] { display: none; }` but bootstrap.min.css set `[hidden] { display: none !important; }` so we also need the `!important` here to be able to override the default hidden behavior on the sphinx rendered scikit-learn.org. See: https://github.com/scikit-learn/scikit-learn/issues/21755 */display: inline-block !important;position: relative;}#sk-container-id-1 div.sk-text-repr-fallback {display: none;}</style><div id=\"sk-container-id-1\" class=\"sk-top-container\"><div class=\"sk-text-repr-fallback\"><pre>LogisticRegression()</pre><b>In a Jupyter environment, please rerun this cell to show the HTML representation or trust the notebook. <br />On GitHub, the HTML representation is unable to render, please try loading this page with nbviewer.org.</b></div><div class=\"sk-container\" hidden><div class=\"sk-item\"><div class=\"sk-estimator sk-toggleable\"><input class=\"sk-toggleable__control sk-hidden--visually\" id=\"sk-estimator-id-1\" type=\"checkbox\" checked><label for=\"sk-estimator-id-1\" class=\"sk-toggleable__label sk-toggleable__label-arrow\">LogisticRegression</label><div class=\"sk-toggleable__content\"><pre>LogisticRegression()</pre></div></div></div></div></div>"
     },
     "execution_count": 31,
     "metadata": {},
     "output_type": "execute_result"
    }
   ],
   "source": [
    "sk_classifier.fit(X_train, y_train)"
   ],
   "metadata": {
    "collapsed": false,
    "ExecuteTime": {
     "end_time": "2024-01-18T18:34:35.713499100Z",
     "start_time": "2024-01-18T18:34:35.566774400Z"
    }
   },
   "id": "137fcb84ef2920c3",
   "execution_count": 31
  },
  {
   "cell_type": "code",
   "outputs": [],
   "source": [
    "sk_X_train_predictions = sk_classifier.predict(X_train)"
   ],
   "metadata": {
    "collapsed": false,
    "ExecuteTime": {
     "end_time": "2024-01-18T18:34:40.591194100Z",
     "start_time": "2024-01-18T18:34:40.571927800Z"
    }
   },
   "id": "7a29b93d9bcb28e2",
   "execution_count": 32
  },
  {
   "cell_type": "markdown",
   "source": [
    "### Medición de desempeño\n",
    "\n",
    "Se utiliza la métrica de _precision_ para medir el desempeño del modelo. Esto debido a la necesidad de conocer la cantidad de predicciones correctas realizadas por el modelo, es decir, la cantidad de predicciones positivas que fueron correctas."
   ],
   "metadata": {
    "collapsed": false
   },
   "id": "4d05d900c8505de9"
  },
  {
   "cell_type": "code",
   "outputs": [],
   "source": [
    "from sklearn.metrics import precision_score"
   ],
   "metadata": {
    "collapsed": false,
    "ExecuteTime": {
     "end_time": "2024-01-18T18:30:33.764911700Z",
     "start_time": "2024-01-18T18:30:33.756145300Z"
    }
   },
   "id": "8238ab46581ba14f",
   "execution_count": 27
  },
  {
   "cell_type": "code",
   "outputs": [
    {
     "name": "stdout",
     "output_type": "stream",
     "text": [
      "Precision sin librerias:0.883\n",
      "Precision con librerias:0.910\n"
     ]
    }
   ],
   "source": [
    "print('Precision sin librerias:{:.3f}'.format(precision_score(y_train, X_train_predictions)))\n",
    "print('Precision con librerias:{:.3f}'.format(precision_score(y_train, sk_X_train_predictions)))"
   ],
   "metadata": {
    "collapsed": false,
    "ExecuteTime": {
     "end_time": "2024-01-18T18:36:02.419561300Z",
     "start_time": "2024-01-18T18:36:02.397496800Z"
    }
   },
   "id": "7e98173f8e7ffbf2",
   "execution_count": 34
  },
  {
   "cell_type": "markdown",
   "source": [
    "### ¿Qué implementación fue mejor? ¿Por qué?\n",
    "\n",
    "EL modelo de la librería _sklearn_ ha tenido mejores resultados que el modelo implementado sin librerías. Esto se debe a que la librería utiliza un algoritmo de optimización más eficiente que el utilizado en la implementación sin librerías. También incluye regularización para evitar el sobreajuste; y es desarrollada por expertos en el tema. En resumen, tiene muchas más técnicas \"_under the hood_\" que la implementación sin librerías en conjunto con el _expertise_ de profesionales."
   ],
   "metadata": {
    "collapsed": false
   },
   "id": "13dc6c3bba04560c"
  },
  {
   "cell_type": "markdown",
   "source": [
    "### Gráficas de grupos encontrados"
   ],
   "metadata": {
    "collapsed": false
   },
   "id": "a226f677842a92b1"
  },
  {
   "cell_type": "markdown",
   "source": [
    "## Task 2.2 | KNN"
   ],
   "metadata": {
    "collapsed": false
   },
   "id": "3a0b7578ce760a08"
  },
  {
   "cell_type": "markdown",
   "source": [
    "### Entrenamiento sin librerías"
   ],
   "metadata": {
    "collapsed": false
   },
   "id": "a7077762142e485b"
  },
  {
   "cell_type": "markdown",
   "source": [
    "### Entrenamiento con librerías"
   ],
   "metadata": {
    "collapsed": false
   },
   "id": "924e6e1cebd5cfdc"
  }
 ],
 "metadata": {
  "kernelspec": {
   "display_name": "Python 3",
   "language": "python",
   "name": "python3"
  },
  "language_info": {
   "codemirror_mode": {
    "name": "ipython",
    "version": 2
   },
   "file_extension": ".py",
   "mimetype": "text/x-python",
   "name": "python",
   "nbconvert_exporter": "python",
   "pygments_lexer": "ipython2",
   "version": "2.7.6"
  }
 },
 "nbformat": 4,
 "nbformat_minor": 5
}
